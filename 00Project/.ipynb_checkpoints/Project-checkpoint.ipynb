{
 "cells": [
  {
   "cell_type": "markdown",
   "metadata": {
    "id": "0JuWO8oMOU5g"
   },
   "source": [
    "###### Задание 1. Загрузка данных\n",
    "Загрузите  файлы по оценкам (ratings) и фильмам (movies) и создайте на их основе pandas-датафреймы"
   ]
  },
  {
   "cell_type": "code",
   "execution_count": null,
   "metadata": {
    "id": "GjFveC25OTRN"
   },
   "outputs": [],
   "source": [
    "import pandas as pd\n",
    "import numpy as np\n",
    "from tabulate import tabulate"
   ]
  },
  {
   "cell_type": "code",
   "execution_count": 53,
   "metadata": {},
   "outputs": [],
   "source": [
    "# user id | item id | rating | timestamp\n",
    "df_ratings = pd.read_csv('rating.csv', \n",
    "                        sep='\\t', \n",
    "                        names=[\"user_id\",\n",
    "                        \"item_id\",\n",
    "                        \"rating\",\n",
    "                        \"timestamp\"],\n",
    "                        dtype = {\n",
    "                        \"user_id\": 'Int32', #01 \n",
    "                        \"item_id\": 'Int64',  #02 \n",
    "                        \"rating\":  'Float16',  \n",
    "                        \"timestamp\": 'Int64', #03\n",
    "                                 }\n",
    "                        )"
   ]
  },
  {
   "cell_type": "code",
   "execution_count": 54,
   "metadata": {},
   "outputs": [
    {
     "name": "stdout",
     "output_type": "stream",
     "text": [
      "<class 'pandas.core.frame.DataFrame'>\n",
      "RangeIndex: 100000 entries, 0 to 99999\n",
      "Data columns (total 4 columns):\n",
      " #   Column     Non-Null Count   Dtype  \n",
      "---  ------     --------------   -----  \n",
      " 0   user_id    100000 non-null  Int32  \n",
      " 1   item_id    100000 non-null  Int64  \n",
      " 2   rating     100000 non-null  float16\n",
      " 3   timestamp  100000 non-null  Int64  \n",
      "dtypes: Int32(1), Int64(2), float16(1)\n",
      "memory usage: 2.4 MB\n"
     ]
    },
    {
     "data": {
      "text/html": [
       "<div>\n",
       "<style scoped>\n",
       "    .dataframe tbody tr th:only-of-type {\n",
       "        vertical-align: middle;\n",
       "    }\n",
       "\n",
       "    .dataframe tbody tr th {\n",
       "        vertical-align: top;\n",
       "    }\n",
       "\n",
       "    .dataframe thead th {\n",
       "        text-align: right;\n",
       "    }\n",
       "</style>\n",
       "<table border=\"1\" class=\"dataframe\">\n",
       "  <thead>\n",
       "    <tr style=\"text-align: right;\">\n",
       "      <th></th>\n",
       "      <th>user_id</th>\n",
       "      <th>item_id</th>\n",
       "      <th>rating</th>\n",
       "      <th>timestamp</th>\n",
       "    </tr>\n",
       "  </thead>\n",
       "  <tbody>\n",
       "    <tr>\n",
       "      <th>0</th>\n",
       "      <td>196</td>\n",
       "      <td>242</td>\n",
       "      <td>3.0</td>\n",
       "      <td>881250949</td>\n",
       "    </tr>\n",
       "    <tr>\n",
       "      <th>1</th>\n",
       "      <td>186</td>\n",
       "      <td>302</td>\n",
       "      <td>3.0</td>\n",
       "      <td>891717742</td>\n",
       "    </tr>\n",
       "    <tr>\n",
       "      <th>2</th>\n",
       "      <td>22</td>\n",
       "      <td>377</td>\n",
       "      <td>1.0</td>\n",
       "      <td>878887116</td>\n",
       "    </tr>\n",
       "    <tr>\n",
       "      <th>3</th>\n",
       "      <td>244</td>\n",
       "      <td>51</td>\n",
       "      <td>2.0</td>\n",
       "      <td>880606923</td>\n",
       "    </tr>\n",
       "    <tr>\n",
       "      <th>4</th>\n",
       "      <td>166</td>\n",
       "      <td>346</td>\n",
       "      <td>1.0</td>\n",
       "      <td>886397596</td>\n",
       "    </tr>\n",
       "  </tbody>\n",
       "</table>\n",
       "</div>"
      ],
      "text/plain": [
       "   user_id  item_id  rating  timestamp\n",
       "0      196      242     3.0  881250949\n",
       "1      186      302     3.0  891717742\n",
       "2       22      377     1.0  878887116\n",
       "3      244       51     2.0  880606923\n",
       "4      166      346     1.0  886397596"
      ]
     },
     "execution_count": 54,
     "metadata": {},
     "output_type": "execute_result"
    }
   ],
   "source": [
    "df_ratings.info()\n",
    "df_ratings.head()"
   ]
  },
  {
   "cell_type": "code",
   "execution_count": null,
   "metadata": {},
   "outputs": [],
   "source": [
    "'''\n",
    "movie id | movie title | release date | video release date |\n",
    "              IMDb URL | unknown | Action | Adventure | Animation |\n",
    "              Children's | Comedy | Crime | Documentary | Drama | Fantasy |\n",
    "              Film-Noir | Horror | Musical | Mystery | Romance | Sci-Fi |\n",
    "              Thriller | War | Western | \n",
    "              \n",
    "'''              \n",
    "df_movies = pd.read_csv('movies.csv', \n",
    "                        sep='|', \n",
    "                        names=[\"movie_id\",\"movie_title\", \"release_date\", \"video_release_date\",\n",
    "                               \"IMDb_URL\", \"unknown\", \"action\", \"adventure\", \"animation\", \n",
    "                                \"children_s\", \"comedy\", \"crime\", \"documentary\", \"drama\", \"fantasy\",\n",
    "                                \"film-noir\", \"horror\", \"musical\", \"mystery\", \"romance\", \"sci-fi\", \n",
    "                                \"thriller\", \"war\", \"western\"],\n",
    "# https://stackoverflow.com/questions/5552555/unicodedecodeerror-invalid-continuation-byte                        \n",
    "                        encoding='latin-1' \n",
    "                        )"
   ]
  },
  {
   "cell_type": "code",
   "execution_count": 50,
   "metadata": {},
   "outputs": [
    {
     "name": "stdout",
     "output_type": "stream",
     "text": [
      "<class 'pandas.core.frame.DataFrame'>\n",
      "RangeIndex: 1682 entries, 0 to 1681\n",
      "Data columns (total 24 columns):\n",
      " #   Column              Non-Null Count  Dtype  \n",
      "---  ------              --------------  -----  \n",
      " 0   movie_id            1682 non-null   int64  \n",
      " 1   movie_title         1682 non-null   object \n",
      " 2   release_date        1681 non-null   object \n",
      " 3   video_release_date  0 non-null      float64\n",
      " 4   IMDb_URL            1679 non-null   object \n",
      " 5   unknown             1682 non-null   int64  \n",
      " 6   action              1682 non-null   int64  \n",
      " 7   adventure           1682 non-null   int64  \n",
      " 8   animation           1682 non-null   int64  \n",
      " 9   children_s          1682 non-null   int64  \n",
      " 10  comedy              1682 non-null   int64  \n",
      " 11  crime               1682 non-null   int64  \n",
      " 12  documentary         1682 non-null   int64  \n",
      " 13  drama               1682 non-null   int64  \n",
      " 14  fantasy             1682 non-null   int64  \n",
      " 15  film-noir           1682 non-null   int64  \n",
      " 16  horror              1682 non-null   int64  \n",
      " 17  musical             1682 non-null   int64  \n",
      " 18  mystery             1682 non-null   int64  \n",
      " 19  romance             1682 non-null   int64  \n",
      " 20  sci-fi              1682 non-null   int64  \n",
      " 21  thriller            1682 non-null   int64  \n",
      " 22  war                 1682 non-null   int64  \n",
      " 23  western             1682 non-null   int64  \n",
      "dtypes: float64(1), int64(20), object(3)\n",
      "memory usage: 315.5+ KB\n"
     ]
    },
    {
     "data": {
      "text/html": [
       "<div>\n",
       "<style scoped>\n",
       "    .dataframe tbody tr th:only-of-type {\n",
       "        vertical-align: middle;\n",
       "    }\n",
       "\n",
       "    .dataframe tbody tr th {\n",
       "        vertical-align: top;\n",
       "    }\n",
       "\n",
       "    .dataframe thead th {\n",
       "        text-align: right;\n",
       "    }\n",
       "</style>\n",
       "<table border=\"1\" class=\"dataframe\">\n",
       "  <thead>\n",
       "    <tr style=\"text-align: right;\">\n",
       "      <th></th>\n",
       "      <th>movie_id</th>\n",
       "      <th>movie_title</th>\n",
       "      <th>release_date</th>\n",
       "      <th>video_release_date</th>\n",
       "      <th>IMDb_URL</th>\n",
       "      <th>unknown</th>\n",
       "      <th>action</th>\n",
       "      <th>adventure</th>\n",
       "      <th>animation</th>\n",
       "      <th>children_s</th>\n",
       "      <th>...</th>\n",
       "      <th>fantasy</th>\n",
       "      <th>film-noir</th>\n",
       "      <th>horror</th>\n",
       "      <th>musical</th>\n",
       "      <th>mystery</th>\n",
       "      <th>romance</th>\n",
       "      <th>sci-fi</th>\n",
       "      <th>thriller</th>\n",
       "      <th>war</th>\n",
       "      <th>western</th>\n",
       "    </tr>\n",
       "  </thead>\n",
       "  <tbody>\n",
       "    <tr>\n",
       "      <th>0</th>\n",
       "      <td>1</td>\n",
       "      <td>Toy Story (1995)</td>\n",
       "      <td>01-Jan-1995</td>\n",
       "      <td>NaN</td>\n",
       "      <td>http://us.imdb.com/M/title-exact?Toy%20Story%2...</td>\n",
       "      <td>0</td>\n",
       "      <td>0</td>\n",
       "      <td>0</td>\n",
       "      <td>1</td>\n",
       "      <td>1</td>\n",
       "      <td>...</td>\n",
       "      <td>0</td>\n",
       "      <td>0</td>\n",
       "      <td>0</td>\n",
       "      <td>0</td>\n",
       "      <td>0</td>\n",
       "      <td>0</td>\n",
       "      <td>0</td>\n",
       "      <td>0</td>\n",
       "      <td>0</td>\n",
       "      <td>0</td>\n",
       "    </tr>\n",
       "    <tr>\n",
       "      <th>1</th>\n",
       "      <td>2</td>\n",
       "      <td>GoldenEye (1995)</td>\n",
       "      <td>01-Jan-1995</td>\n",
       "      <td>NaN</td>\n",
       "      <td>http://us.imdb.com/M/title-exact?GoldenEye%20(...</td>\n",
       "      <td>0</td>\n",
       "      <td>1</td>\n",
       "      <td>1</td>\n",
       "      <td>0</td>\n",
       "      <td>0</td>\n",
       "      <td>...</td>\n",
       "      <td>0</td>\n",
       "      <td>0</td>\n",
       "      <td>0</td>\n",
       "      <td>0</td>\n",
       "      <td>0</td>\n",
       "      <td>0</td>\n",
       "      <td>0</td>\n",
       "      <td>1</td>\n",
       "      <td>0</td>\n",
       "      <td>0</td>\n",
       "    </tr>\n",
       "    <tr>\n",
       "      <th>2</th>\n",
       "      <td>3</td>\n",
       "      <td>Four Rooms (1995)</td>\n",
       "      <td>01-Jan-1995</td>\n",
       "      <td>NaN</td>\n",
       "      <td>http://us.imdb.com/M/title-exact?Four%20Rooms%...</td>\n",
       "      <td>0</td>\n",
       "      <td>0</td>\n",
       "      <td>0</td>\n",
       "      <td>0</td>\n",
       "      <td>0</td>\n",
       "      <td>...</td>\n",
       "      <td>0</td>\n",
       "      <td>0</td>\n",
       "      <td>0</td>\n",
       "      <td>0</td>\n",
       "      <td>0</td>\n",
       "      <td>0</td>\n",
       "      <td>0</td>\n",
       "      <td>1</td>\n",
       "      <td>0</td>\n",
       "      <td>0</td>\n",
       "    </tr>\n",
       "    <tr>\n",
       "      <th>3</th>\n",
       "      <td>4</td>\n",
       "      <td>Get Shorty (1995)</td>\n",
       "      <td>01-Jan-1995</td>\n",
       "      <td>NaN</td>\n",
       "      <td>http://us.imdb.com/M/title-exact?Get%20Shorty%...</td>\n",
       "      <td>0</td>\n",
       "      <td>1</td>\n",
       "      <td>0</td>\n",
       "      <td>0</td>\n",
       "      <td>0</td>\n",
       "      <td>...</td>\n",
       "      <td>0</td>\n",
       "      <td>0</td>\n",
       "      <td>0</td>\n",
       "      <td>0</td>\n",
       "      <td>0</td>\n",
       "      <td>0</td>\n",
       "      <td>0</td>\n",
       "      <td>0</td>\n",
       "      <td>0</td>\n",
       "      <td>0</td>\n",
       "    </tr>\n",
       "    <tr>\n",
       "      <th>4</th>\n",
       "      <td>5</td>\n",
       "      <td>Copycat (1995)</td>\n",
       "      <td>01-Jan-1995</td>\n",
       "      <td>NaN</td>\n",
       "      <td>http://us.imdb.com/M/title-exact?Copycat%20(1995)</td>\n",
       "      <td>0</td>\n",
       "      <td>0</td>\n",
       "      <td>0</td>\n",
       "      <td>0</td>\n",
       "      <td>0</td>\n",
       "      <td>...</td>\n",
       "      <td>0</td>\n",
       "      <td>0</td>\n",
       "      <td>0</td>\n",
       "      <td>0</td>\n",
       "      <td>0</td>\n",
       "      <td>0</td>\n",
       "      <td>0</td>\n",
       "      <td>1</td>\n",
       "      <td>0</td>\n",
       "      <td>0</td>\n",
       "    </tr>\n",
       "  </tbody>\n",
       "</table>\n",
       "<p>5 rows × 24 columns</p>\n",
       "</div>"
      ],
      "text/plain": [
       "   movie_id        movie_title release_date  video_release_date  \\\n",
       "0         1   Toy Story (1995)  01-Jan-1995                 NaN   \n",
       "1         2   GoldenEye (1995)  01-Jan-1995                 NaN   \n",
       "2         3  Four Rooms (1995)  01-Jan-1995                 NaN   \n",
       "3         4  Get Shorty (1995)  01-Jan-1995                 NaN   \n",
       "4         5     Copycat (1995)  01-Jan-1995                 NaN   \n",
       "\n",
       "                                            IMDb_URL  unknown  action  \\\n",
       "0  http://us.imdb.com/M/title-exact?Toy%20Story%2...        0       0   \n",
       "1  http://us.imdb.com/M/title-exact?GoldenEye%20(...        0       1   \n",
       "2  http://us.imdb.com/M/title-exact?Four%20Rooms%...        0       0   \n",
       "3  http://us.imdb.com/M/title-exact?Get%20Shorty%...        0       1   \n",
       "4  http://us.imdb.com/M/title-exact?Copycat%20(1995)        0       0   \n",
       "\n",
       "   adventure  animation  children_s  ...  fantasy  film-noir  horror  musical  \\\n",
       "0          0          1           1  ...        0          0       0        0   \n",
       "1          1          0           0  ...        0          0       0        0   \n",
       "2          0          0           0  ...        0          0       0        0   \n",
       "3          0          0           0  ...        0          0       0        0   \n",
       "4          0          0           0  ...        0          0       0        0   \n",
       "\n",
       "   mystery  romance  sci-fi  thriller  war  western  \n",
       "0        0        0       0         0    0        0  \n",
       "1        0        0       0         1    0        0  \n",
       "2        0        0       0         1    0        0  \n",
       "3        0        0       0         0    0        0  \n",
       "4        0        0       0         1    0        0  \n",
       "\n",
       "[5 rows x 24 columns]"
      ]
     },
     "execution_count": 50,
     "metadata": {},
     "output_type": "execute_result"
    }
   ],
   "source": [
    "df_movies.info()\n",
    "df_movies.head()"
   ]
  },
  {
   "cell_type": "markdown",
   "metadata": {},
   "source": [
    "###### Задание 2. \n",
    "Средствами Pandas, используя dataframe ratings, найдите id пользователя, поставившего больше всего оценок"
   ]
  },
  {
   "cell_type": "code",
   "execution_count": null,
   "metadata": {
    "colab": {
     "base_uri": "https://localhost:8080/",
     "height": 206
    },
    "id": "EP43KeKhOTRT",
    "outputId": "a731cc91-365e-4557-aa7e-971af1cb1373"
   },
   "outputs": [],
   "source": [
    "df_groups = df_ratings.groupby('user_id').count()\n",
    "df_groups.sort_values(by='rating', ascending=False).head(1)"
   ]
  },
  {
   "cell_type": "markdown",
   "metadata": {},
   "source": [
    "###### Задание 3. \n",
    "Оставьте в датафрейме ratings только те фильмы, который оценил данный пользователь "
   ]
  },
  {
   "cell_type": "code",
   "execution_count": 47,
   "metadata": {},
   "outputs": [
    {
     "data": {
      "text/html": [
       "<div>\n",
       "<style scoped>\n",
       "    .dataframe tbody tr th:only-of-type {\n",
       "        vertical-align: middle;\n",
       "    }\n",
       "\n",
       "    .dataframe tbody tr th {\n",
       "        vertical-align: top;\n",
       "    }\n",
       "\n",
       "    .dataframe thead th {\n",
       "        text-align: right;\n",
       "    }\n",
       "</style>\n",
       "<table border=\"1\" class=\"dataframe\">\n",
       "  <thead>\n",
       "    <tr style=\"text-align: right;\">\n",
       "      <th></th>\n",
       "      <th>user_id</th>\n",
       "      <th>item_id</th>\n",
       "      <th>rating</th>\n",
       "      <th>timestamp</th>\n",
       "    </tr>\n",
       "  </thead>\n",
       "  <tbody>\n",
       "    <tr>\n",
       "      <th>12276</th>\n",
       "      <td>405</td>\n",
       "      <td>56</td>\n",
       "      <td>4.0</td>\n",
       "      <td>885544911</td>\n",
       "    </tr>\n",
       "    <tr>\n",
       "      <th>12383</th>\n",
       "      <td>405</td>\n",
       "      <td>592</td>\n",
       "      <td>1.0</td>\n",
       "      <td>885548670</td>\n",
       "    </tr>\n",
       "    <tr>\n",
       "      <th>12430</th>\n",
       "      <td>405</td>\n",
       "      <td>1582</td>\n",
       "      <td>1.0</td>\n",
       "      <td>885548670</td>\n",
       "    </tr>\n",
       "    <tr>\n",
       "      <th>12449</th>\n",
       "      <td>405</td>\n",
       "      <td>171</td>\n",
       "      <td>1.0</td>\n",
       "      <td>885549544</td>\n",
       "    </tr>\n",
       "    <tr>\n",
       "      <th>12460</th>\n",
       "      <td>405</td>\n",
       "      <td>580</td>\n",
       "      <td>1.0</td>\n",
       "      <td>885547447</td>\n",
       "    </tr>\n",
       "  </tbody>\n",
       "</table>\n",
       "</div>"
      ],
      "text/plain": [
       "       user_id  item_id  rating  timestamp\n",
       "12276      405       56     4.0  885544911\n",
       "12383      405      592     1.0  885548670\n",
       "12430      405     1582     1.0  885548670\n",
       "12449      405      171     1.0  885549544\n",
       "12460      405      580     1.0  885547447"
      ]
     },
     "execution_count": 47,
     "metadata": {},
     "output_type": "execute_result"
    }
   ],
   "source": [
    "df_405 = df_ratings.loc[df_ratings.user_id == 405]\n",
    "df_405.head(5)"
   ]
  },
  {
   "cell_type": "markdown",
   "metadata": {},
   "source": [
    "Для построения модели нам нужны признаки. В качестве таковых будем использовать:\n",
    "1. Год выхода\n",
    "2. Жанры\n",
    "3. Общее количество оценок\n",
    "4. Суммарную оценку\n"
   ]
  },
  {
   "cell_type": "markdown",
   "metadata": {},
   "source": [
    "###### Задание 4. \n",
    "Добавьте к датафрейму из задания 3 следующие столбцы:\n",
    "1. По жанрам. Каждый столбец - это жанр. Единицу записываем, если фильм принадлежит данному жанру и 0 - если нет\n",
    "2. Cтолбец с общим количеством оценок от всех пользователей на фильм\n",
    "3. Cуммарной оценкой от всех пользователей\n"
   ]
  },
  {
   "cell_type": "markdown",
   "metadata": {},
   "source": [
    "Нужно соединить датасеты **df_405** и   **df_movies** по столбцу идентификатора фильма"
   ]
  },
  {
   "cell_type": "code",
   "execution_count": 74,
   "metadata": {
    "scrolled": true
   },
   "outputs": [
    {
     "data": {
      "text/html": [
       "<div>\n",
       "<style scoped>\n",
       "    .dataframe tbody tr th:only-of-type {\n",
       "        vertical-align: middle;\n",
       "    }\n",
       "\n",
       "    .dataframe tbody tr th {\n",
       "        vertical-align: top;\n",
       "    }\n",
       "\n",
       "    .dataframe thead th {\n",
       "        text-align: right;\n",
       "    }\n",
       "</style>\n",
       "<table border=\"1\" class=\"dataframe\">\n",
       "  <thead>\n",
       "    <tr style=\"text-align: right;\">\n",
       "      <th></th>\n",
       "      <th>user_id</th>\n",
       "      <th>item_id</th>\n",
       "      <th>rating</th>\n",
       "      <th>movie_id</th>\n",
       "      <th>release_date</th>\n",
       "      <th>unknown</th>\n",
       "      <th>action</th>\n",
       "      <th>adventure</th>\n",
       "      <th>animation</th>\n",
       "      <th>children_s</th>\n",
       "      <th>...</th>\n",
       "      <th>fantasy</th>\n",
       "      <th>film-noir</th>\n",
       "      <th>horror</th>\n",
       "      <th>musical</th>\n",
       "      <th>mystery</th>\n",
       "      <th>romance</th>\n",
       "      <th>sci-fi</th>\n",
       "      <th>thriller</th>\n",
       "      <th>war</th>\n",
       "      <th>western</th>\n",
       "    </tr>\n",
       "  </thead>\n",
       "  <tbody>\n",
       "    <tr>\n",
       "      <th>0</th>\n",
       "      <td>405</td>\n",
       "      <td>56</td>\n",
       "      <td>4.0</td>\n",
       "      <td>56</td>\n",
       "      <td>01-Jan-1994</td>\n",
       "      <td>0</td>\n",
       "      <td>0</td>\n",
       "      <td>0</td>\n",
       "      <td>0</td>\n",
       "      <td>0</td>\n",
       "      <td>...</td>\n",
       "      <td>0</td>\n",
       "      <td>0</td>\n",
       "      <td>0</td>\n",
       "      <td>0</td>\n",
       "      <td>0</td>\n",
       "      <td>0</td>\n",
       "      <td>0</td>\n",
       "      <td>0</td>\n",
       "      <td>0</td>\n",
       "      <td>0</td>\n",
       "    </tr>\n",
       "    <tr>\n",
       "      <th>1</th>\n",
       "      <td>405</td>\n",
       "      <td>592</td>\n",
       "      <td>1.0</td>\n",
       "      <td>592</td>\n",
       "      <td>01-Jan-1995</td>\n",
       "      <td>0</td>\n",
       "      <td>0</td>\n",
       "      <td>0</td>\n",
       "      <td>0</td>\n",
       "      <td>0</td>\n",
       "      <td>...</td>\n",
       "      <td>0</td>\n",
       "      <td>0</td>\n",
       "      <td>0</td>\n",
       "      <td>0</td>\n",
       "      <td>1</td>\n",
       "      <td>0</td>\n",
       "      <td>0</td>\n",
       "      <td>1</td>\n",
       "      <td>0</td>\n",
       "      <td>0</td>\n",
       "    </tr>\n",
       "  </tbody>\n",
       "</table>\n",
       "<p>2 rows × 24 columns</p>\n",
       "</div>"
      ],
      "text/plain": [
       "   user_id  item_id  rating  movie_id release_date  unknown  action  \\\n",
       "0      405       56     4.0        56  01-Jan-1994        0       0   \n",
       "1      405      592     1.0       592  01-Jan-1995        0       0   \n",
       "\n",
       "   adventure  animation  children_s  ...  fantasy  film-noir  horror  musical  \\\n",
       "0          0          0           0  ...        0          0       0        0   \n",
       "1          0          0           0  ...        0          0       0        0   \n",
       "\n",
       "   mystery  romance  sci-fi  thriller  war  western  \n",
       "0        0        0       0         0    0        0  \n",
       "1        1        0       0         1    0        0  \n",
       "\n",
       "[2 rows x 24 columns]"
      ]
     },
     "execution_count": 74,
     "metadata": {},
     "output_type": "execute_result"
    }
   ],
   "source": [
    "df_row_join =  pd.merge(df_405, df_movies, how='inner', on=None, left_on='item_id', right_on='movie_id')\n",
    "df_row_join.drop(columns=['timestamp','video_release_date','IMDb_URL','movie_title'], inplace=True)\n",
    "df_row_join.head (2)"
   ]
  },
  {
   "cell_type": "code",
   "execution_count": null,
   "metadata": {},
   "outputs": [],
   "source": [
    "print('Уникальные значения столбцов:')\n",
    "print('______________________________________________')\n",
    "print('Столбец \"surgery\":', df['surgery?'].unique())\n",
    "print('______________________________________________')\n",
    "print('Столбец \"age\":', df['age'].unique())\n",
    "print('______________________________________________')\n",
    "print('Столбец \"rectal_temperature\":', df['rectal_temperature'].unique())\n",
    "print('______________________________________________')\n",
    "print('Столбец \"pulse\":', df['pulse'].unique())\n",
    "print('______________________________________________')\n",
    "print('Столбец \"respiratory_rate\":', df['respiratory_rate'].unique())\n",
    "print('______________________________________________')\n",
    "print('Столбец \"temperature_of_extremities\":', df['temperature_of_extremities'].unique())\n",
    "print('______________________________________________')\n",
    "print('Столбец \"pain\":', df['pain'].unique())\n",
    "print('______________________________________________')\n",
    "print('Столбец \"outcome\":', df['outcome'].unique())\n",
    "print('______________________________________________')"
   ]
  },
  {
   "cell_type": "code",
   "execution_count": null,
   "metadata": {},
   "outputs": [],
   "source": [
    "df.describe()"
   ]
  },
  {
   "cell_type": "markdown",
   "metadata": {},
   "source": [
    "Значения моды для категориальных переменных:"
   ]
  },
  {
   "cell_type": "code",
   "execution_count": null,
   "metadata": {},
   "outputs": [],
   "source": [
    "# Моды\n",
    "print('Surgery:', df['surgery?'].mode()[0])\n",
    "print('Age:', df['age'].mode()[0])\n",
    "print('Respiratory rate:', df['respiratory_rate'].mode()[0])\n",
    "print('Temperature of extremities:', df['temperature_of_extremities'].mode()[0])\n",
    "print('Pain:', df['pain'].mode()[0])\n",
    "print('Outcome:', df['outcome'].mode()[0])"
   ]
  },
  {
   "cell_type": "markdown",
   "metadata": {},
   "source": [
    "Значения дисперсии для всех переменных:"
   ]
  },
  {
   "cell_type": "code",
   "execution_count": null,
   "metadata": {},
   "outputs": [],
   "source": [
    "print(f'Surgery: {df[\"surgery?\"].var():.2f}')\n",
    "print(f'Age: {df[\"age\"].var():.2f}')\n",
    "print(f'Rectal temperature: {df[\"rectal_temperature\"].var():.2f}')\n",
    "print(f'Pulse: {df[\"pulse\"].var():.2f}')\n",
    "print(f'Respiratory rate: {df[\"respiratory_rate\"].var():.2f}')\n",
    "print(f'Temperature of extremities: {df[\"temperature_of_extremities\"].var():.2f}')\n",
    "print(f'Pain: {df[\"pain\"].var():.2f}')\n",
    "print(f'Outcome: {df[\"outcome\"].var():.2f}')"
   ]
  },
  {
   "cell_type": "markdown",
   "metadata": {},
   "source": [
    "Межквартильный размах:"
   ]
  },
  {
   "cell_type": "code",
   "execution_count": null,
   "metadata": {},
   "outputs": [],
   "source": [
    "IQR_surgery = df['surgery?'].quantile(0.75) - df['surgery?'].quantile(0.25)\n",
    "print(f'Surgery: {IQR_surgery:.1f}')\n",
    "\n",
    "IQR_age = df['age'].quantile(0.75) - df['age'].quantile(0.25)\n",
    "print(f'Age: {IQR_age:.1f}')\n",
    "\n",
    "IQR_rectal_temperature = df['rectal_temperature'].quantile(0.75) - df['rectal_temperature'].quantile(0.25)\n",
    "print(f'Rectal temperature: {IQR_rectal_temperature:.1f}')\n",
    "\n",
    "IQR_pulse = df['pulse'].quantile(0.75) - df['pulse'].quantile(0.25)\n",
    "print(f'Pulse: {IQR_pulse:.1f}')\n",
    "\n",
    "IQR_respiratory_rate = df['respiratory_rate'].quantile(0.75) - df['respiratory_rate'].quantile(0.25)\n",
    "print(f'Respiratory rate: {IQR_respiratory_rate:.1f}')\n",
    "\n",
    "IQR_temperature_of_extremities = df['temperature_of_extremities'].quantile(0.75)\\\n",
    "- df['temperature_of_extremities'].quantile(0.25)\n",
    "print(f'Temperature of extremities: {IQR_temperature_of_extremities:.1f}')\n",
    "\n",
    "IQR_pain = df['pain'].quantile(0.75) - df['pain'].quantile(0.25)\n",
    "print(f'Pain: {IQR_pain:.1f}')\n",
    "\n",
    "IQR_outcome = df['outcome'].quantile(0.75) - df['outcome'].quantile(0.25)\n",
    "print(f'Outcome: {IQR_outcome:.1f}')"
   ]
  },
  {
   "cell_type": "markdown",
   "metadata": {},
   "source": [
    "Анализ основных статистических характеристик показывает что в столбце **pulse** возможен выброс по максимальному значению.\n",
    "Однако данный показатель зависим от общего состояния животного - при высоком уровне боли пульс может быть повышен."
   ]
  },
  {
   "cell_type": "code",
   "execution_count": null,
   "metadata": {},
   "outputs": [],
   "source": [
    "# Расчёт выбросов для столбца pulse по «внутренним границам»:\n",
    "q1 = df['pulse'].quantile(0.25)\n",
    "q3 = df['pulse'].quantile(0.75)\n",
    "iqr = q3 - q1\n",
    "lower_bound_int = q1 - (1.5 * iqr) \n",
    "upper_bound_int = q3 + (1.5 * iqr)\n",
    "print ('Значение выбросов столбца \"pulse\" по \"внутренним границам\" (1,5 межквартильного размаха):')\n",
    "df[~df['pulse'].between(lower_bound_int, upper_bound_int, inclusive=True)]"
   ]
  },
  {
   "cell_type": "code",
   "execution_count": null,
   "metadata": {},
   "outputs": [],
   "source": [
    "# По внешним границам - значительные выбросы:\n",
    "lower_bound_ext = q1 - (3. * iqr) \n",
    "upper_bound_ext = q3 + (3. * iqr)\n",
    "\n",
    "print ('Значения значительных выбросов по \"внешним границам\" (3,0 межквартильного размаха):')\n",
    "\n",
    "df_max_outer = df[~df['pulse'].between(lower_bound_ext, upper_bound_ext, inclusive=True)]\n",
    "\n",
    "if len(df_max_outer) == 0:\n",
    "    print ('Значительных выбросов по столбцу \"pulse\" не обнаружено')\n",
    "else:\n",
    "    display(df_max_outer)\n",
    "        \n",
    "    "
   ]
  },
  {
   "cell_type": "markdown",
   "metadata": {},
   "source": [
    "Так же возможны выбросы в столбце **respiratory_rate**. Проверим это:"
   ]
  },
  {
   "cell_type": "code",
   "execution_count": null,
   "metadata": {},
   "outputs": [],
   "source": [
    "# Расчёт выбросов для столбца respiratory_rate по «внутренним границам»:\n",
    "q1 = df['respiratory_rate'].quantile(0.25)\n",
    "q3 = df['respiratory_rate'].quantile(0.75)\n",
    "iqr = q3 - q1\n",
    "lower_bound_int = q1 - (1.5 * iqr) \n",
    "upper_bound_int = q3 + (1.5 * iqr)\n",
    "print ('Значение выбросов столбца \"respiratory_rate\" по \"внутренним границам\" (1,5 межквартильного размаха):')\n",
    "df[~df['pulse'].between(lower_bound_int, upper_bound_int, inclusive=True)]"
   ]
  },
  {
   "cell_type": "code",
   "execution_count": null,
   "metadata": {},
   "outputs": [],
   "source": [
    "# По внешним границам - значительные выбросы:\n",
    "lower_bound_ext = q1 - (3. * iqr) \n",
    "upper_bound_ext = q3 + (3. * iqr)\n",
    "\n",
    "print ('Значения значительных выбросов по \"внешним границам\" (3,0 межквартильного размаха):')\n",
    "\n",
    "df_max_outer = df[~df['respiratory_rate'].between(lower_bound_ext, upper_bound_ext, inclusive=True)]\n",
    "\n",
    "if len(df_max_outer) == 0:\n",
    "    print ('Значительных выбросов по столбцу \"respiratory_rate\" не обнаружено')\n",
    "else:\n",
    "    display(df_max_outer)"
   ]
  },
  {
   "cell_type": "markdown",
   "metadata": {},
   "source": [
    "Как указано в описании данных датафрейма, характиристика частоты дыхания (respiratory rate) имеет сомнительную ценность ввиду большой вариативности.\n",
    "\n",
    "**Рекомендация:** исключить данные строки из последующего анализа."
   ]
  },
  {
   "cell_type": "markdown",
   "metadata": {},
   "source": [
    "###### Задание 3. Работа с пропусками\n",
    "Рассчитать количество пропусков для всех выбранных столбцов. Принять и обосновать решение о методе заполнения пропусков по каждому столбцу на основе рассчитанных статистик и возможной взаимосвязи значений в них. Сформировать датафрейм, в котором пропуски будут отсутствовать."
   ]
  },
  {
   "cell_type": "code",
   "execution_count": null,
   "metadata": {},
   "outputs": [],
   "source": [
    "df.info()"
   ]
  },
  {
   "cell_type": "code",
   "execution_count": null,
   "metadata": {},
   "outputs": [],
   "source": [
    "elements_Nan = df.isna().sum().sum()\n",
    "print('Общее количество пропущеных значений для всех столбцов:', elements_Nan)\n",
    "elements = len(df.axes[0])*len(df.axes[1])\n",
    "print ('Общее количество элементов в датафрейме:', elements )\n",
    "print(f'Отсутствует {(elements_Nan/elements) *100}% данных')"
   ]
  },
  {
   "cell_type": "code",
   "execution_count": null,
   "metadata": {},
   "outputs": [],
   "source": [
    "print('В разрезе по столбцам отсутствует следующее количество данных в процентах:')\n",
    "(df.isna().sum() / len(df)).round(4) * 100"
   ]
  },
  {
   "cell_type": "code",
   "execution_count": null,
   "metadata": {},
   "outputs": [],
   "source": [
    "print('Строка с пропущенным значением для столбца \"surgery?\"- проводилась ли хирургическая операция:')\n",
    "df.loc[df['surgery?'].isnull()]\n"
   ]
  },
  {
   "cell_type": "markdown",
   "metadata": {},
   "source": [
    "В строке так же не заполнено значение **outcome** - нет результата лечения.\n",
    "\n",
    "**Рекомендация:** заменить значения **surgery?** и **outcome** соотвествующими модами, либо удалить строку."
   ]
  },
  {
   "cell_type": "code",
   "execution_count": null,
   "metadata": {},
   "outputs": [],
   "source": [
    "print('Значение моды для столбца \"surgery?\": ', df['surgery?'].mode()[0])\n",
    "print('Значение моды для столбца \"outcome\": ', df['outcome'].mode()[0])\n",
    "df['surgery?'].iloc[132] = 1\n",
    "df['outcome'].iloc[132] = 1\n",
    "df.iloc[132] "
   ]
  },
  {
   "cell_type": "markdown",
   "metadata": {},
   "source": [
    "Столбец **age** не имеет пропусков данных  и не требует дополнительной обработки. Однако категориальные значения для возраста не соответствуют описанию:\n",
    "\n",
    " Age:\n",
    " \n",
    "         1 = Adult horse\n",
    "         \n",
    "         2 = Young (< 6 months)\n",
    "В датасете имеются только значения 1 и 9:"
   ]
  },
  {
   "cell_type": "code",
   "execution_count": null,
   "metadata": {},
   "outputs": [],
   "source": [
    "df['age'].unique()"
   ]
  },
  {
   "cell_type": "markdown",
   "metadata": {},
   "source": [
    "**Рекомендация:** определить, что **9** обозначает молодую ососбь и заменить на  **2**, как это было определено в описании данных:"
   ]
  },
  {
   "cell_type": "code",
   "execution_count": null,
   "metadata": {},
   "outputs": [],
   "source": [
    "df['age'].loc[df['age'] == 9] = 2\n",
    "df['age'].unique()"
   ]
  },
  {
   "cell_type": "markdown",
   "metadata": {},
   "source": [
    "Заполнение пропущенных значений столбца ***pain*** -  \n",
    "cравним показатели датафрейма при заполнении модой и медианой:"
   ]
  },
  {
   "cell_type": "code",
   "execution_count": null,
   "metadata": {},
   "outputs": [],
   "source": [
    "moda_pain = df\n",
    "\n",
    "moda_pain['pain'].fillna(df['pain'].mode()[0], inplace=True)\n",
    "moda_pain['pain'].describe()"
   ]
  },
  {
   "cell_type": "code",
   "execution_count": null,
   "metadata": {},
   "outputs": [],
   "source": [
    "median_pain = df\n",
    "median_pain['pain'].fillna(df['pain'].median(), inplace=True)\n",
    "median_pain['pain'].describe()"
   ]
  },
  {
   "cell_type": "markdown",
   "metadata": {},
   "source": [
    "Каких-либо различий в статистических показателях не обнаружено.\n",
    "**Рекомендация:** столбец **pain** заполняем значением моды."
   ]
  },
  {
   "cell_type": "code",
   "execution_count": null,
   "metadata": {},
   "outputs": [],
   "source": [
    "df['pain'].fillna(df['pain'].mode()[0], inplace=True)\n",
    "df.info()"
   ]
  },
  {
   "cell_type": "markdown",
   "metadata": {},
   "source": [
    "Убедимся, что в столбце **pain** не осталось пропусков:"
   ]
  },
  {
   "cell_type": "code",
   "execution_count": null,
   "metadata": {},
   "outputs": [],
   "source": [
    "df['pain'].isna().sum()"
   ]
  },
  {
   "cell_type": "code",
   "execution_count": null,
   "metadata": {},
   "outputs": [],
   "source": [
    "df.info()"
   ]
  },
  {
   "cell_type": "markdown",
   "metadata": {},
   "source": [
    "Используем матрицу корреляции пропущенных значений и группировку для заполниня по медиане \n",
    "\n",
    "Матрица корреляуии показывает насколько сильно присутствие или отсутствие значений одного признака влияет на присутствие значений другого.\n"
   ]
  },
  {
   "cell_type": "code",
   "execution_count": null,
   "metadata": {},
   "outputs": [],
   "source": [
    "df[['rectal_temperature',  'pulse', 'respiratory_rate', 'temperature_of_extremities']].isna().corr()"
   ]
  },
  {
   "cell_type": "markdown",
   "metadata": {},
   "source": [
    "Столбец **rectal_temperature** содержит набор непрерывных величин, пропуски могут быть заполнены медианными  значениями в зависимости от возрастной категории и уровня боли:"
   ]
  },
  {
   "cell_type": "code",
   "execution_count": null,
   "metadata": {},
   "outputs": [],
   "source": [
    "# Мы не можем исключать, что средние температуры в зависимости возраста различны...\n",
    "# Используем заполнение внутригрупповым значением\n",
    "# https://www.dmitrymakarov.ru/data-analysis/nan-06/?ysclid=lctaakg710392163057#8-protsent-propushchennykh-znacheniy\n",
    "print('Группы по возрастам: 1-возрослая лошадь, 2-жеребенок:')\n",
    "print(df.groupby(['age'])['rectal_temperature'].agg('count'))\n",
    "print('Медианная температура по возрастам: 1-возрослая лошадь, 2-жеребенок:')\n",
    "print(df.groupby(['age','pain'])['rectal_temperature'].median())\n",
    "df['rectal_temperature'] = df['rectal_temperature'].fillna(df.groupby(['age', 'pain'])['rectal_temperature'].transform('median'))\n"
   ]
  },
  {
   "cell_type": "markdown",
   "metadata": {},
   "source": [
    "Убедимся, что в столбце **rectal_temperature** не осталось пропусков:"
   ]
  },
  {
   "cell_type": "code",
   "execution_count": null,
   "metadata": {},
   "outputs": [],
   "source": [
    "df['rectal_temperature'].isna().sum()"
   ]
  },
  {
   "cell_type": "markdown",
   "metadata": {},
   "source": [
    "Заменим значение пульса (**pulse**) на медианное по группе в зависимости от возраста и температуры:"
   ]
  },
  {
   "cell_type": "code",
   "execution_count": null,
   "metadata": {},
   "outputs": [],
   "source": [
    "df['pulse'] = df['pulse'].fillna(df.groupby(['age', 'rectal_temperature'])['pulse'].transform('median'))"
   ]
  },
  {
   "cell_type": "markdown",
   "metadata": {},
   "source": [
    "Убедимся, что в столбце **pulse** не осталось пропусков:"
   ]
  },
  {
   "cell_type": "code",
   "execution_count": null,
   "metadata": {},
   "outputs": [],
   "source": [
    "df['pulse'].isna().sum()"
   ]
  },
  {
   "cell_type": "markdown",
   "metadata": {},
   "source": [
    "Заменим значение частоты дыхания (**respiratory_rate**) на медианное по группе в зависимости от возраста и уровня боли:"
   ]
  },
  {
   "cell_type": "code",
   "execution_count": null,
   "metadata": {},
   "outputs": [],
   "source": [
    "df['respiratory_rate'] = df['respiratory_rate'].fillna(df.groupby(['pain','age'])['respiratory_rate'].transform('median'))\n"
   ]
  },
  {
   "cell_type": "markdown",
   "metadata": {},
   "source": [
    "Убедимся, что в столбце **respiratory_rate** не осталось пропусков:"
   ]
  },
  {
   "cell_type": "code",
   "execution_count": null,
   "metadata": {},
   "outputs": [],
   "source": [
    "df['respiratory_rate'].isna().sum()"
   ]
  },
  {
   "cell_type": "markdown",
   "metadata": {},
   "source": [
    "Заменим значение температуры конечностей (**temperature_of_extremities**) на медианное по группе в зависимости от возраста и исхода:"
   ]
  },
  {
   "cell_type": "code",
   "execution_count": null,
   "metadata": {},
   "outputs": [],
   "source": [
    "df['temperature_of_extremities'] = df['temperature_of_extremities'].fillna(df.groupby(['outcome','age'])['temperature_of_extremities'].transform('median'))\n"
   ]
  },
  {
   "cell_type": "markdown",
   "metadata": {},
   "source": [
    "Убедимся, что в столбце **respiratory_rate** не осталось пропусков:"
   ]
  },
  {
   "cell_type": "code",
   "execution_count": null,
   "metadata": {},
   "outputs": [],
   "source": [
    "df['temperature_of_extremities'].isna().sum()"
   ]
  },
  {
   "cell_type": "markdown",
   "metadata": {
    "id": "pRiYnAwVVPYe"
   },
   "source": [
    "## Минимум, максимум и размах"
   ]
  },
  {
   "cell_type": "code",
   "execution_count": null,
   "metadata": {
    "colab": {
     "base_uri": "https://localhost:8080/"
    },
    "id": "eWoVIZvjVSWm",
    "outputId": "f43fc0e8-7d00-4e56-ef6f-116f30c9f1d6"
   },
   "outputs": [],
   "source": [
    "print(max(df['Height']))\n",
    "print(np.max(df['Height']))\n",
    "print(df['Height'].max())"
   ]
  },
  {
   "cell_type": "code",
   "execution_count": null,
   "metadata": {
    "colab": {
     "base_uri": "https://localhost:8080/"
    },
    "id": "lWK_QixaOTRV",
    "outputId": "89b023e9-bf00-42cc-c763-43b6a15b6093"
   },
   "outputs": [],
   "source": [
    "print(min(df['Weight']))\n",
    "print(np.min(df['Weight']))\n",
    "print(df['Weight'].min())"
   ]
  },
  {
   "cell_type": "code",
   "execution_count": null,
   "metadata": {
    "id": "6JmWIZEbOTRV"
   },
   "outputs": [],
   "source": [
    "df[df['Weight'] == df['Weight'].min()]"
   ]
  },
  {
   "cell_type": "code",
   "execution_count": null,
   "metadata": {
    "colab": {
     "base_uri": "https://localhost:8080/"
    },
    "id": "tJ-8XfmBVU7n",
    "outputId": "99252e9c-53ac-43bd-e8a0-b628835223f8"
   },
   "outputs": [],
   "source": [
    "# размах – разница между минимальным и максимальным значением\n",
    "weight_range = df['Weight'].max() - df['Weight'].min()\n",
    "height_range = df['Height'].max() - df['Height'].min()\n",
    "print(weight_range)\n",
    "print(height_range)"
   ]
  },
  {
   "cell_type": "markdown",
   "metadata": {
    "id": "0OZnatR5OTRX"
   },
   "source": [
    "## Среднеарифметическое"
   ]
  },
  {
   "cell_type": "code",
   "execution_count": null,
   "metadata": {
    "colab": {
     "base_uri": "https://localhost:8080/"
    },
    "id": "EV2ZFVsrOTRX",
    "outputId": "cb802529-0de9-4a85-9fae-ed580ef0abbd"
   },
   "outputs": [],
   "source": [
    "# ручной подсчет\n",
    "sum(df['Weight']) / len(df['Weight'])"
   ]
  },
  {
   "cell_type": "code",
   "execution_count": null,
   "metadata": {
    "colab": {
     "base_uri": "https://localhost:8080/"
    },
    "id": "Gq0gh73GOTRY",
    "outputId": "81cd3698-a653-447e-87f8-c3fbf8da9ee7"
   },
   "outputs": [],
   "source": [
    "print(np.mean(df['Weight']))\n",
    "print(df['Weight'].mean())"
   ]
  },
  {
   "cell_type": "markdown",
   "metadata": {
    "id": "Vcp_Pij5OTRY"
   },
   "source": [
    "## Мода"
   ]
  },
  {
   "cell_type": "code",
   "execution_count": null,
   "metadata": {
    "colab": {
     "base_uri": "https://localhost:8080/"
    },
    "id": "YF8FcqPTOTRb",
    "outputId": "719ed400-daf4-48a4-96c6-0fb28fdf44f7"
   },
   "outputs": [],
   "source": [
    "print('Значение моды: ', df['Weight'].mode()[0])"
   ]
  },
  {
   "cell_type": "markdown",
   "metadata": {
    "id": "qWyHSy8xOTRc"
   },
   "source": [
    "## Медиана"
   ]
  },
  {
   "cell_type": "code",
   "execution_count": null,
   "metadata": {
    "colab": {
     "base_uri": "https://localhost:8080/"
    },
    "id": "1YEkytFFOTRd",
    "outputId": "11561240-471d-45a1-b028-94bdfee65caf"
   },
   "outputs": [],
   "source": [
    "print(df['Height'].median())\n",
    "print(np.median(df['Height']))"
   ]
  },
  {
   "cell_type": "markdown",
   "metadata": {
    "id": "9Y239gfqVaL-"
   },
   "source": [
    "## СКО"
   ]
  },
  {
   "cell_type": "code",
   "execution_count": null,
   "metadata": {
    "colab": {
     "base_uri": "https://localhost:8080/"
    },
    "id": "KbJrfmd7faCm",
    "outputId": "d9637917-675b-4e1a-ab30-5d1660ef154c"
   },
   "outputs": [],
   "source": [
    "print('Рост')\n",
    "print(df['Height'].std())\n",
    "print(np.std(df['Height'], ddof=1)) # дельта степеней свободы в numpy по умолчанию 0\n",
    "\n",
    "print('Вес')\n",
    "print(df['Weight'].std())\n",
    "print(np.std(df['Weight'], ddof=1))"
   ]
  },
  {
   "cell_type": "markdown",
   "metadata": {
    "id": "6MsGMUEeGLnX"
   },
   "source": [
    "## Дисперсия"
   ]
  },
  {
   "cell_type": "code",
   "execution_count": null,
   "metadata": {
    "colab": {
     "base_uri": "https://localhost:8080/"
    },
    "id": "addZ1sLdghk5",
    "outputId": "cd5287c3-0d0e-4eab-b64f-ef1232b96de7"
   },
   "outputs": [],
   "source": [
    "print('Рост')\n",
    "print(np.var(df['Height'], ddof=1))\n",
    "print(df['Height'].var())\n",
    "\n",
    "print('Вес')\n",
    "print(np.var(df['Weight'], ddof=1))\n",
    "print(df['Weight'].var())"
   ]
  },
  {
   "cell_type": "markdown",
   "metadata": {
    "id": "k5m4DmULOTRf"
   },
   "source": [
    "## Квантили"
   ]
  },
  {
   "cell_type": "code",
   "execution_count": null,
   "metadata": {
    "colab": {
     "base_uri": "https://localhost:8080/"
    },
    "id": "yy0TiAHmOTRg",
    "outputId": "0012b0fe-94e6-4c13-a51e-727d3623bc35"
   },
   "outputs": [],
   "source": [
    "# это же медиана!\n",
    "df['Height'].quantile()"
   ]
  },
  {
   "cell_type": "code",
   "execution_count": null,
   "metadata": {
    "colab": {
     "base_uri": "https://localhost:8080/"
    },
    "id": "E_DI6UBbOTRg",
    "outputId": "4484ce83-3067-4f28-cb47-b5d4359454d5"
   },
   "outputs": [],
   "source": [
    "# первый и третий квартили\n",
    "df['Height'].quantile([0.25, 0.75])"
   ]
  },
  {
   "cell_type": "code",
   "execution_count": null,
   "metadata": {
    "colab": {
     "base_uri": "https://localhost:8080/"
    },
    "id": "qAf3oBa_OTRh",
    "outputId": "4bb96e1f-3e3f-46f3-bec9-2da2b0b7d5e4",
    "scrolled": true
   },
   "outputs": [],
   "source": [
    "# произвольный перцентиль\n",
    "df['Height'].quantile(0.33)"
   ]
  },
  {
   "cell_type": "code",
   "execution_count": null,
   "metadata": {
    "colab": {
     "base_uri": "https://localhost:8080/"
    },
    "id": "013263LaOTRh",
    "outputId": "8b1962a4-5671-4599-c442-7c204f47598b"
   },
   "outputs": [],
   "source": [
    "# межквартильный размах\n",
    "Q1 = df['Height'].quantile(0.25)\n",
    "Q3 = df['Height'].quantile(0.75)\n",
    "IQR = Q3 - Q1\n",
    "IQR"
   ]
  },
  {
   "cell_type": "markdown",
   "metadata": {
    "id": "_uKvDfuwOTRi"
   },
   "source": [
    "## Describe"
   ]
  },
  {
   "cell_type": "code",
   "execution_count": null,
   "metadata": {
    "colab": {
     "base_uri": "https://localhost:8080/",
     "height": 300
    },
    "id": "XN7DB46OOTRi",
    "outputId": "2d8db5d1-be27-4df7-b017-92803fd62fc3"
   },
   "outputs": [],
   "source": [
    "df.describe()"
   ]
  },
  {
   "cell_type": "markdown",
   "metadata": {
    "id": "PS8Uhn5YOTRi"
   },
   "source": [
    "## Выбросы"
   ]
  },
  {
   "cell_type": "code",
   "execution_count": null,
   "metadata": {
    "colab": {
     "base_uri": "https://localhost:8080/"
    },
    "id": "hD4OS3klOTRj",
    "outputId": "54085771-347c-46dc-8e98-877b7d73372e"
   },
   "outputs": [],
   "source": [
    "# тыкнем пальцем в небо (определим выбросы вручную) и посмотрим, как изменились средние\n",
    "print(df['Weight'].mean())\n",
    "print(df[(df['Weight'] > 50) & (df['Weight'] < 150)]['Weight'].mean())"
   ]
  },
  {
   "cell_type": "code",
   "execution_count": null,
   "metadata": {
    "colab": {
     "base_uri": "https://localhost:8080/"
    },
    "id": "og4-DZ6LOTRj",
    "outputId": "6c5fc210-b70c-4b12-ade8-b22e055dc076"
   },
   "outputs": [],
   "source": [
    "# а медиана?\n",
    "print(df['Weight'].median())\n",
    "print(df[(df['Weight'] > 50) & (df['Weight'] < 150)]['Weight'].median())"
   ]
  },
  {
   "cell_type": "code",
   "execution_count": null,
   "metadata": {
    "colab": {
     "base_uri": "https://localhost:8080/"
    },
    "id": "hrW4Dq8_OTRj",
    "outputId": "54838bdc-2396-42ea-916f-2e4f813e9f47"
   },
   "outputs": [],
   "source": [
    "# ну с модой все понятно\n",
    "print(df['Weight'].round().mode()[0])\n",
    "print(df[(df['Weight'] > 50) & (df['Weight'] < 150)]['Weight'].round().mode()[0])"
   ]
  },
  {
   "cell_type": "markdown",
   "metadata": {
    "id": "WZBwpizyOTRk"
   },
   "source": [
    "А теперь найдем выбросы через межквартльный размах (на примере роста)\n",
    "\n",
    "PS: через межквартильный размах корректно искать выбросы в нормально распределенных данных (про распределения будет дальше на курсе)"
   ]
  },
  {
   "cell_type": "code",
   "execution_count": null,
   "metadata": {
    "colab": {
     "base_uri": "https://localhost:8080/",
     "height": 461
    },
    "id": "veFR3pf9OTRk",
    "outputId": "6dffd4b0-7a82-4b8b-bec7-62bcebfb4389"
   },
   "outputs": [],
   "source": [
    "q1 = df['Height'].quantile(0.25)\n",
    "q3 = df['Height'].quantile(0.75)\n",
    "iqr = q3 - q1\n",
    "lower_bound = q1 - (1.5 * iqr) \n",
    "upper_bound = q3 + (1.5 * iqr)\n",
    "remove_outliers = df[df['Height'].between(lower_bound, upper_bound, inclusive=True)]\n",
    "remove_outliers"
   ]
  },
  {
   "cell_type": "code",
   "execution_count": null,
   "metadata": {
    "colab": {
     "base_uri": "https://localhost:8080/",
     "height": 338
    },
    "id": "raT6HgUSOTRk",
    "outputId": "18252d5a-039b-4d9d-f62a-0034fba1ea6c"
   },
   "outputs": [],
   "source": [
    "# что это за выбросы?\n",
    "df[~df['Height'].between(lower_bound, upper_bound, inclusive=True)]"
   ]
  },
  {
   "cell_type": "code",
   "execution_count": null,
   "metadata": {
    "id": "gxSuUy1DOTRl"
   },
   "outputs": [],
   "source": [
    "print(remove_outliers['Height'].mean())\n",
    "print(remove_outliers['Height'].median())"
   ]
  },
  {
   "cell_type": "code",
   "execution_count": null,
   "metadata": {
    "colab": {
     "base_uri": "https://localhost:8080/"
    },
    "id": "bRy1qyzDOTRm",
    "outputId": "1fc015c7-faf7-4b41-eb5d-143e192ec6c5"
   },
   "outputs": [],
   "source": [
    "print(df['Height'].mean() - remove_outliers['Height'].mean())"
   ]
  },
  {
   "cell_type": "code",
   "execution_count": null,
   "metadata": {
    "colab": {
     "base_uri": "https://localhost:8080/"
    },
    "id": "cCRL77kBOTRm",
    "outputId": "4b56c371-b4fd-45da-a6b1-e39f9ac0dec0"
   },
   "outputs": [],
   "source": [
    "print(df['Height'].median() - remove_outliers['Height'].median())"
   ]
  },
  {
   "cell_type": "markdown",
   "metadata": {
    "id": "n2QVTJUpOTRm"
   },
   "source": [
    "## Пропуски"
   ]
  },
  {
   "cell_type": "markdown",
   "metadata": {
    "id": "9JZ2LejSOTRn"
   },
   "source": [
    "Как часто в реальной жизни приходится заполнять пропуски?\n",
    "\n",
    "На самом деле не часто. Заполнять нужно в том случае, когда алгоритм, для которого готовятся данные, чувствителен к пропускам. Например, регрессии и нейросети – чувствительны, а корреляция и стат-тесты нет (хотя для стат-тестов пропуски нужно удалять).\n",
    "\n",
    "Кроме того, заполнять мы, строго говоря, имеем право только когда данные пропущены совершенно случайно (MCAR) – тогда заполнение не повлияет на характер связи междузаполняемой переменной и остальными. А то, что у нас MCAR нужно еще доказать.\n",
    "\n",
    "Но это нужно уметь делать в тех случаях, когда необходимо. "
   ]
  },
  {
   "cell_type": "code",
   "execution_count": null,
   "metadata": {
    "colab": {
     "base_uri": "https://localhost:8080/",
     "height": 781
    },
    "id": "v-KxMBEMOTRn",
    "outputId": "c53d3fbb-7a29-4976-9ee1-50597872bfaf"
   },
   "outputs": [],
   "source": [
    "titanic = pd.read_csv('https://raw.githubusercontent.com/obulygin/netology_pyda_files/main/titanic.csv')\n",
    "titanic.info()\n",
    "titanic"
   ]
  },
  {
   "cell_type": "markdown",
   "metadata": {
    "id": "ZTSLAG9xOTRn"
   },
   "source": [
    "Если в данных пропуски представлены в виде каких-то конкретных значений (пустые строк, -, ? и пр.), то используйте аргумент na_values при чтении файла."
   ]
  },
  {
   "cell_type": "code",
   "execution_count": null,
   "metadata": {
    "colab": {
     "base_uri": "https://localhost:8080/"
    },
    "id": "bVGYomo7OTRo",
    "outputId": "3ff19034-0b0a-4ead-ab7f-40188c401007"
   },
   "outputs": [],
   "source": [
    "(titanic.isna().mean() * 100).round(2)"
   ]
  },
  {
   "cell_type": "markdown",
   "metadata": {
    "id": "UIEarmnSOTRo"
   },
   "source": [
    "### Игнорирование пропусков"
   ]
  },
  {
   "cell_type": "code",
   "execution_count": null,
   "metadata": {
    "colab": {
     "base_uri": "https://localhost:8080/"
    },
    "id": "mPQi3QMROTRo",
    "outputId": "83de92d1-a370-4110-d949-39c05c85cb41"
   },
   "outputs": [],
   "source": [
    "# все методы pandas по-умолчанию просто не берут в расчет пропуски\n",
    "print(titanic['Age'].mean())\n",
    "print(titanic['Age'].median())\n",
    "print(titanic['Age'].mode()[0])\n",
    "\n",
    "print(titanic['Age'].std())\n",
    "print(titanic['Age'].var())"
   ]
  },
  {
   "cell_type": "markdown",
   "metadata": {
    "id": "JjHnj7JvOTRo"
   },
   "source": [
    "### Удаление строк с пропусками"
   ]
  },
  {
   "cell_type": "code",
   "execution_count": null,
   "metadata": {
    "colab": {
     "base_uri": "https://localhost:8080/"
    },
    "id": "igjiWwZ0OTRp",
    "outputId": "503fb922-d23f-4dac-b942-85c788e21d20"
   },
   "outputs": [],
   "source": [
    "titanic.dropna().info()"
   ]
  },
  {
   "cell_type": "code",
   "execution_count": null,
   "metadata": {
    "colab": {
     "base_uri": "https://localhost:8080/"
    },
    "id": "P88KCwMbOTRp",
    "outputId": "78e3f9f4-8509-4c7d-cc4c-ea7e7ee18a57"
   },
   "outputs": [],
   "source": [
    "# посмотрите на сколько исказились статистики, если мы удалим все строки с пропусками\n",
    "print(titanic.dropna()['Age'].mean())\n",
    "print(titanic.dropna()['Age'].median())\n",
    "print(titanic.dropna()['Age'].mode()[0])\n",
    "\n",
    "print(titanic.dropna()['Age'].std())\n",
    "print(titanic.dropna()['Age'].var())"
   ]
  },
  {
   "cell_type": "code",
   "execution_count": null,
   "metadata": {
    "colab": {
     "base_uri": "https://localhost:8080/",
     "height": 424
    },
    "id": "tceNYYnLOTRp",
    "outputId": "dc69c18c-f695-4873-da0c-6975a49b8f0f"
   },
   "outputs": [],
   "source": [
    "# предположим, мы хотим оставить только те строки, в которых как минимум 11/12 значений заполнено\n",
    "titanic.dropna(thresh=11)"
   ]
  },
  {
   "cell_type": "markdown",
   "metadata": {
    "id": "UNW6NFGZOTRq"
   },
   "source": [
    "### Удаление столбцов с пропусками"
   ]
  },
  {
   "cell_type": "code",
   "execution_count": null,
   "metadata": {
    "colab": {
     "base_uri": "https://localhost:8080/"
    },
    "id": "bf4NRQU7OTRq",
    "outputId": "cbc20254-3226-4e16-b0ab-c21e8dd969e8"
   },
   "outputs": [],
   "source": [
    "# удалять все в данном случае – странно\n",
    "titanic.dropna(axis = 1).info()"
   ]
  },
  {
   "cell_type": "code",
   "execution_count": null,
   "metadata": {
    "colab": {
     "base_uri": "https://localhost:8080/"
    },
    "id": "GAjPBsR_OTRq",
    "outputId": "7c17ce9f-84c3-48b5-e35a-bdcb2a95afe4"
   },
   "outputs": [],
   "source": [
    "# у нас очень много пропусков в Cabin. Нам эта информация точно нужна?\n",
    "titanic.drop(['Cabin'], axis=1).info()"
   ]
  },
  {
   "cell_type": "markdown",
   "metadata": {
    "id": "ZBJGGsZJOTRq"
   },
   "source": [
    "### Замена пропусков"
   ]
  },
  {
   "cell_type": "markdown",
   "metadata": {
    "id": "H5fcwKXJOTRr"
   },
   "source": [
    "Замена на определенное значение"
   ]
  },
  {
   "cell_type": "code",
   "execution_count": null,
   "metadata": {
    "colab": {
     "base_uri": "https://localhost:8080/"
    },
    "id": "QvnV0qKTOTRr",
    "outputId": "d8245e13-87d8-4743-caf5-338c7f8e4242"
   },
   "outputs": [],
   "source": [
    "fill_by_cnst = titanic.copy()\n",
    "fill_by_cnst['Cabin'] = fill_by_cnst['Cabin'].fillna('no_info')\n",
    "print(fill_by_cnst['Cabin'].isna().sum())\n",
    "print(fill_by_cnst['Cabin'].unique())"
   ]
  },
  {
   "cell_type": "markdown",
   "metadata": {
    "id": "8K4b4Qg3OTRr"
   },
   "source": [
    "Заполняя пропуски, мы хотим сохранить параметры распределения заполняемой переменной – математическое ожидание и дисперсию. Самый простой способ это сделать – заполнить средним или медианой. В этом случае сохраняется среднее, но дисперсией приходится пожертвовать."
   ]
  },
  {
   "cell_type": "markdown",
   "metadata": {
    "id": "1ydv7RDuOTRr"
   },
   "source": [
    "Замена средним"
   ]
  },
  {
   "cell_type": "code",
   "execution_count": null,
   "metadata": {
    "id": "qCDAE5-tOTRr"
   },
   "outputs": [],
   "source": [
    "# возраст дискретен, при заполнении средними еще стоит округлить. Проигнорируем в учебных целях\n",
    "\n",
    "fill_mean = titanic.copy()\n",
    "\n",
    "fill_mean['Age'] = fill_mean['Age'].fillna(titanic['Age'].mean())"
   ]
  },
  {
   "cell_type": "code",
   "execution_count": null,
   "metadata": {
    "colab": {
     "base_uri": "https://localhost:8080/"
    },
    "id": "ztInDnKAOTRs",
    "outputId": "b9981e54-44eb-42bf-e4b0-a10663fc63e7"
   },
   "outputs": [],
   "source": [
    "print(titanic['Age'].describe())\n",
    "print('-----------------------------------')\n",
    "print(fill_mean['Age'].describe())"
   ]
  },
  {
   "cell_type": "markdown",
   "metadata": {
    "id": "1c65phukOTRs"
   },
   "source": [
    "Замена медианой"
   ]
  },
  {
   "cell_type": "code",
   "execution_count": null,
   "metadata": {
    "id": "uRCllMDQOTRs"
   },
   "outputs": [],
   "source": [
    "fill_median = titanic.copy()\n",
    "\n",
    "fill_median['Age'] = fill_median['Age'].fillna(titanic['Age'].median())"
   ]
  },
  {
   "cell_type": "code",
   "execution_count": null,
   "metadata": {
    "colab": {
     "base_uri": "https://localhost:8080/"
    },
    "id": "9DzUdEaVOTRt",
    "outputId": "d86fcef7-621d-47ca-e560-49d83dcf7b84"
   },
   "outputs": [],
   "source": [
    "print(titanic['Age'].describe())\n",
    "print('-----------------------------------')\n",
    "print(fill_median['Age'].describe())"
   ]
  },
  {
   "cell_type": "markdown",
   "metadata": {
    "id": "Gh-yV-9XOTRt"
   },
   "source": [
    "Замена модой"
   ]
  },
  {
   "cell_type": "code",
   "execution_count": null,
   "metadata": {
    "colab": {
     "base_uri": "https://localhost:8080/"
    },
    "id": "7nuTX959OTRt",
    "outputId": "d5032b33-b47a-49ca-b395-3384d7bc7c0f"
   },
   "outputs": [],
   "source": [
    "titanic['Embarked'].value_counts()"
   ]
  },
  {
   "cell_type": "code",
   "execution_count": null,
   "metadata": {
    "colab": {
     "base_uri": "https://localhost:8080/"
    },
    "id": "50wBovIfOTRu",
    "outputId": "04936bfe-8ce3-4c0b-b3a7-8969144e341a"
   },
   "outputs": [],
   "source": [
    "titanic_fill_mode = titanic.copy()\n",
    "titanic_fill_mode['Embarked'] = titanic_fill_mode['Embarked'].fillna(titanic['Embarked'].mode()[0])\n",
    "\n",
    "titanic_fill_mode['Embarked'].value_counts()"
   ]
  },
  {
   "cell_type": "markdown",
   "metadata": {
    "id": "WHfFjFF3OTRu"
   },
   "source": [
    "В большинстве случаев это слишком наивные варианты заполнения, как минимум стоит заполнять значениями в разрезе других признаков (когда применимо)."
   ]
  },
  {
   "cell_type": "markdown",
   "metadata": {
    "id": "qdUqkPP4OTRu"
   },
   "source": [
    "Заполнение пропусков с группировкой по\n",
    "одной переменной"
   ]
  },
  {
   "cell_type": "code",
   "execution_count": null,
   "metadata": {
    "id": "JP-GDm9mOTRu"
   },
   "outputs": [],
   "source": []
  },
  {
   "cell_type": "code",
   "execution_count": null,
   "metadata": {
    "colab": {
     "base_uri": "https://localhost:8080/"
    },
    "id": "DhCbeuwhOTRu",
    "outputId": "c0b6ba9b-b173-4c43-e120-c1bd80f4865a"
   },
   "outputs": [],
   "source": [
    "# мы не можем исключать, что медианный возраст мужчин и женщин отличался\n",
    "print(titanic.groupby('Sex')['Age'].median())\n",
    "fill_median_by_gender = titanic.copy()\n",
    "fill_median_by_gender['Age'] = fill_median_by_gender['Age'].fillna(titanic.groupby('Sex')['Age'].transform('median'))"
   ]
  },
  {
   "cell_type": "code",
   "execution_count": null,
   "metadata": {
    "colab": {
     "base_uri": "https://localhost:8080/"
    },
    "id": "GocBAYpAOTRv",
    "outputId": "c34404e6-b244-446e-d7a2-f0b05cd2fdb0",
    "scrolled": true
   },
   "outputs": [],
   "source": [
    "# а может быть и в разных классах были пассажиры разного возраста?\n",
    "print(titanic.groupby(['Sex', 'Pclass'])['Age'].median())\n",
    "fill_median_by_groups = titanic.copy()\n",
    "fill_median_by_groups['Age'] = fill_median_by_groups['Age'].fillna(titanic.groupby(['Sex', 'Pclass'])['Age'].transform('median'))"
   ]
  },
  {
   "cell_type": "code",
   "execution_count": null,
   "metadata": {
    "id": "q7hYk_-yOTRv"
   },
   "outputs": [],
   "source": []
  },
  {
   "cell_type": "markdown",
   "metadata": {
    "id": "66JdtYTsOTRv"
   },
   "source": [
    "Заполнение следующими/предыдущими значениями"
   ]
  },
  {
   "cell_type": "code",
   "execution_count": null,
   "metadata": {
    "colab": {
     "base_uri": "https://localhost:8080/"
    },
    "id": "L79CyziKOTRv",
    "outputId": "de8dce68-bf22-4ea8-849e-6cd523ad9c4c"
   },
   "outputs": [],
   "source": [
    "city_day = pd.read_csv('https://raw.githubusercontent.com/obulygin/netology_pyda_files/main/city_day.csv', parse_dates=True, index_col='Date')\n",
    "city_day.info()"
   ]
  },
  {
   "cell_type": "code",
   "execution_count": null,
   "metadata": {
    "colab": {
     "base_uri": "https://localhost:8080/",
     "height": 455
    },
    "id": "xIPjjKlfOTRw",
    "outputId": "fe784f77-d40c-422e-b4ce-a1c8512fc5ac"
   },
   "outputs": [],
   "source": [
    "city_day"
   ]
  },
  {
   "cell_type": "code",
   "execution_count": null,
   "metadata": {
    "colab": {
     "base_uri": "https://localhost:8080/"
    },
    "id": "sHrWiaV5OTRw",
    "outputId": "dfe36439-1f7a-483d-fb72-f8656e319cec"
   },
   "outputs": [],
   "source": [
    "(city_day.isna().mean() * 100).round(2)"
   ]
  },
  {
   "cell_type": "code",
   "execution_count": null,
   "metadata": {
    "id": "Jn07fETbOTRw"
   },
   "outputs": [],
   "source": [
    "city_day.fillna(method='ffill', inplace=True)"
   ]
  },
  {
   "cell_type": "code",
   "execution_count": null,
   "metadata": {
    "id": "lnfP2GinOTRx"
   },
   "outputs": [],
   "source": [
    "city_day.fillna(method='bfill', inplace=True)"
   ]
  },
  {
   "cell_type": "code",
   "execution_count": null,
   "metadata": {
    "colab": {
     "base_uri": "https://localhost:8080/"
    },
    "id": "n45437kpOTRx",
    "outputId": "912ce6a3-d729-4db6-f1a7-e4c1c5a55953"
   },
   "outputs": [],
   "source": [
    "(city_day.isna().mean() * 100).round(2)"
   ]
  }
 ],
 "metadata": {
  "colab": {
   "provenance": []
  },
  "kernelspec": {
   "display_name": "Python 3",
   "language": "python",
   "name": "python3"
  },
  "language_info": {
   "codemirror_mode": {
    "name": "ipython",
    "version": 3
   },
   "file_extension": ".py",
   "mimetype": "text/x-python",
   "name": "python",
   "nbconvert_exporter": "python",
   "pygments_lexer": "ipython3",
   "version": "3.8.3"
  }
 },
 "nbformat": 4,
 "nbformat_minor": 1
}
