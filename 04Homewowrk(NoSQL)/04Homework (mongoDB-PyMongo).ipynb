{
 "cells": [
  {
   "cell_type": "code",
   "execution_count": 127,
   "metadata": {},
   "outputs": [],
   "source": [
    "#pip install pymongo"
   ]
  },
  {
   "cell_type": "markdown",
   "metadata": {},
   "source": [
    "\n",
    "\n",
    "Создать базу данных.\n",
    "\n",
    "Вставить 4 документа по товарам на сайте. Атрибуты:\n",
    "* название;\n",
    "* категория — 2 товара из одной категории и 2 товара из другой;\n",
    "* цена;\n",
    "* количество товаров на складе.\n",
    "\n",
    "Рассчитать остаточную стоимость товаров в каждой категории (сумма цены, умноженной на остаток).\n",
    "\n",
    "Уменьшить количество товара на 1.\n",
    "\n",
    "Вывести 2 самых дорогих товара.\n"
   ]
  },
  {
   "cell_type": "code",
   "execution_count": 188,
   "metadata": {},
   "outputs": [],
   "source": [
    "import pymongo "
   ]
  },
  {
   "cell_type": "code",
   "execution_count": 189,
   "metadata": {},
   "outputs": [],
   "source": [
    "# Создадим подключение к базе: \n",
    "client = pymongo.MongoClient('localhost', 27017)\n",
    "\n",
    "# Connect to our database\n",
    "db = client['goods']\n",
    "\n",
    "# Fetch our series collection\n",
    "#series_collection = db['series']"
   ]
  },
  {
   "cell_type": "markdown",
   "metadata": {},
   "source": [
    "Создать базу данных."
   ]
  },
  {
   "cell_type": "code",
   "execution_count": 201,
   "metadata": {},
   "outputs": [
    {
     "name": "stdout",
     "output_type": "stream",
     "text": [
      "Database(MongoClient(host=['localhost:27017'], document_class=dict, tz_aware=False, connect=True), 'goods')\n"
     ]
    }
   ],
   "source": [
    "# Посмотрим что подключилось\n",
    "print(db)"
   ]
  },
  {
   "cell_type": "markdown",
   "metadata": {},
   "source": [
    "Данные в MongoDB представлены и хранятся в виде JSON документов . В PyMongo мы используем словари представления документов. В качестве примера, следующий словарь может быть использован для представления докуммнта о товаре:"
   ]
  },
  {
   "cell_type": "markdown",
   "metadata": {},
   "source": [
    "Вставить 4 документа по товарам на сайте. Атрибуты:\n",
    "* название;\n",
    "* категория — 2 товара из одной категории и 2 товара из другой;\n",
    "* цена;\n",
    "* количество товаров на складе."
   ]
  },
  {
   "cell_type": "code",
   "execution_count": 221,
   "metadata": {},
   "outputs": [],
   "source": [
    "# добавит пакетно все товары через список словарей:\n",
    "new_goods = [\n",
    "        {\"name\": \"Prezident\",\n",
    "        \"category\": \"Кофе\",\n",
    "        \"price\": 1500.0,\n",
    "        \"quantity\": 120}, \n",
    "        {\"name\": \"Egoist\",\n",
    "        \"category\": \"Кофе\",\n",
    "        \"price\": 2500.0,\n",
    "        \"quantity\": 20},\n",
    "         {\"name\": \"Assam\",\n",
    "        \"category\": \"Чай\",\n",
    "        \"price\": 300.0,\n",
    "        \"tags\":['чёрный', 'пакетированный'],  # неформализованная схема позволяет произвольно добавить нужные атрибуты\n",
    "        \"quantity\": 54},\n",
    "         {\"name\": \"Lipton\",\n",
    "        \"category\": \"Чай\",\n",
    "        \"price\": 250.0,\n",
    "        \"quantity\": 72}]\n",
    "\n",
    "result = goods.insert_many(new_goods)\n",
    "\n"
   ]
  },
  {
   "cell_type": "markdown",
   "metadata": {},
   "source": [
    "Убедимся что всё записано"
   ]
  },
  {
   "cell_type": "code",
   "execution_count": 222,
   "metadata": {},
   "outputs": [
    {
     "data": {
      "text/plain": [
       "{'_id': ObjectId('640626e555423ab1de751916'),\n",
       " 'name': 'Prezident',\n",
       " 'category': 'Кофе',\n",
       " 'price': 1500.0,\n",
       " 'quantity': 120}"
      ]
     },
     "metadata": {},
     "output_type": "display_data"
    },
    {
     "data": {
      "text/plain": [
       "{'_id': ObjectId('640626e555423ab1de751917'),\n",
       " 'name': 'Egoist',\n",
       " 'category': 'Кофе',\n",
       " 'price': 2500.0,\n",
       " 'quantity': 20}"
      ]
     },
     "metadata": {},
     "output_type": "display_data"
    },
    {
     "data": {
      "text/plain": [
       "{'_id': ObjectId('640626e555423ab1de751918'),\n",
       " 'name': 'Assam',\n",
       " 'category': 'Чай',\n",
       " 'price': 300.0,\n",
       " 'tags': ['чёрный', 'пакетированный'],\n",
       " 'quantity': 54}"
      ]
     },
     "metadata": {},
     "output_type": "display_data"
    },
    {
     "data": {
      "text/plain": [
       "{'_id': ObjectId('640626e555423ab1de751919'),\n",
       " 'name': 'Lipton',\n",
       " 'category': 'Чай',\n",
       " 'price': 250.0,\n",
       " 'quantity': 72}"
      ]
     },
     "metadata": {},
     "output_type": "display_data"
    }
   ],
   "source": [
    "for good in goods.find():\n",
    "    display(good)\n"
   ]
  },
  {
   "cell_type": "markdown",
   "metadata": {},
   "source": [
    "Рассчитать остаточную стоимость товаров в каждой категории (сумма цены, умноженной на остаток)."
   ]
  },
  {
   "cell_type": "code",
   "execution_count": 223,
   "metadata": {},
   "outputs": [
    {
     "name": "stdout",
     "output_type": "stream",
     "text": [
      "{'_id': 'Кофе', 'По категории всего': 230000.0}\n",
      "{'_id': 'Чай', 'По категории всего': 34200.0}\n"
     ]
    }
   ],
   "source": [
    "pipeline = [{ \n",
    "# Проводим группировку:\n",
    "    \"$group\":  \n",
    "\n",
    "        {\"_id\" : \"$category\",  \n",
    "# Обсчитываем категорию:\n",
    "          \"По категории всего\": { \"$sum\": { \"$multiply\": [ \"$price\", \"$quantity\" ] } }\n",
    "         }} \n",
    "\n",
    "    ]\n",
    "\n",
    "agg_result= goods.aggregate(pipeline) \n",
    "\n",
    "\n",
    "# Выводим результат:\n",
    "for goods_group in agg_result: \n",
    "   print(goods_group)\n"
   ]
  },
  {
   "cell_type": "code",
   "execution_count": null,
   "metadata": {},
   "outputs": [],
   "source": [
    "https://www.mongodb.com/docs/manual/core/aggregation-pipeline/"
   ]
  },
  {
   "cell_type": "markdown",
   "metadata": {},
   "source": [
    "db.orders.aggregate( [\n",
    "   // Stage 1: Filter pizza order documents by date range\n",
    "   {\n",
    "      $match:\n",
    "      {\n",
    "         \"date\": { $gte: new ISODate( \"2020-01-30\" ), $lt: new ISODate( \"2022-01-30\" ) }\n",
    "      }\n",
    "   },\n",
    "   // Stage 2: Group remaining documents by date and calculate results\n",
    "   {\n",
    "      $group:\n",
    "      {\n",
    "         _id: { $dateToString: { format: \"%Y-%m-%d\", date: \"$date\" } },\n",
    "         totalOrderValue: { $sum: { $multiply: [ \"$price\", \"$quantity\" ] } },\n",
    "         averageOrderQuantity: { $avg: \"$quantity\" }\n",
    "      }\n",
    "   },\n",
    "   // Stage 3: Sort documents by totalOrderValue in descending order\n",
    "   {\n",
    "      $sort: { totalOrderValue: -1 }\n",
    "   }\n",
    " ] )"
   ]
  },
  {
   "cell_type": "markdown",
   "metadata": {},
   "source": [
    "**Вывести 2 самых дорогих товара:**"
   ]
  },
  {
   "cell_type": "code",
   "execution_count": 224,
   "metadata": {},
   "outputs": [
    {
     "name": "stdout",
     "output_type": "stream",
     "text": [
      "{'_id': ObjectId('640626e555423ab1de751917'), 'name': 'Egoist', 'category': 'Кофе', 'price': 2500.0, 'quantity': 20}\n",
      "{'_id': ObjectId('640626e555423ab1de751916'), 'name': 'Prezident', 'category': 'Кофе', 'price': 1500.0, 'quantity': 120}\n"
     ]
    }
   ],
   "source": [
    "cursor = goods.find().sort(\"price\", pymongo.DESCENDING).limit(2)  \n",
    "for doc_ in cursor:\n",
    "    print(doc_)\n"
   ]
  },
  {
   "cell_type": "markdown",
   "metadata": {},
   "source": [
    "**Уменьшить количество товара на 1 единицу**"
   ]
  },
  {
   "cell_type": "code",
   "execution_count": 225,
   "metadata": {},
   "outputs": [
    {
     "name": "stdout",
     "output_type": "stream",
     "text": [
      "{'_id': ObjectId('640626e555423ab1de751918'), 'name': 'Assam', 'category': 'Чай', 'price': 300.0, 'tags': ['чёрный', 'пакетированный'], 'quantity': 53}\n"
     ]
    }
   ],
   "source": [
    "# Обновить для чая Assam\n",
    "filter_ = {'name':'Assam' }\n",
    " \n",
    "# Уменьшить количество на одну единицу\n",
    "newvalue = { \"$inc\": { 'quantity': -1 } }\n",
    "\n",
    "goods.update_many(filter_, newvalue)\n",
    "cursor = goods.find(filter_)\n",
    "\n",
    "for record in cursor:\n",
    "    print(record)"
   ]
  },
  {
   "cell_type": "code",
   "execution_count": 226,
   "metadata": {},
   "outputs": [
    {
     "name": "stdout",
     "output_type": "stream",
     "text": [
      "{'_id': ObjectId('640626e555423ab1de751916'), 'name': 'Prezident', 'category': 'Кофе', 'price': 1500.0, 'quantity': 119}\n",
      "{'_id': ObjectId('640626e555423ab1de751917'), 'name': 'Egoist', 'category': 'Кофе', 'price': 2500.0, 'quantity': 19}\n",
      "{'_id': ObjectId('640626e555423ab1de751918'), 'name': 'Assam', 'category': 'Чай', 'price': 300.0, 'tags': ['чёрный', 'пакетированный'], 'quantity': 52}\n",
      "{'_id': ObjectId('640626e555423ab1de751919'), 'name': 'Lipton', 'category': 'Чай', 'price': 250.0, 'quantity': 71}\n"
     ]
    }
   ],
   "source": [
    "# Обновить для всего\n",
    "filter_ = {} # нужен пустой фильтр !!!! \n",
    " \n",
    "# Уменьшить количество на одну единицу\n",
    "newvalue = { \"$inc\": { 'quantity': -1 } }\n",
    "\n",
    "goods.update_many(filter_, newvalue)\n",
    "cursor = goods.find(filter_)\n",
    "\n",
    "for record in cursor:\n",
    "    print(record)"
   ]
  },
  {
   "cell_type": "code",
   "execution_count": 227,
   "metadata": {},
   "outputs": [
    {
     "name": "stdout",
     "output_type": "stream",
     "text": [
      "{'_id': ObjectId('640626e555423ab1de751918'), 'name': 'Assam', 'category': 'Чай', 'price': 300.0, 'tags': ['чёрный', 'пакетированный'], 'quantity': 51}\n",
      "{'_id': ObjectId('640626e555423ab1de751919'), 'name': 'Lipton', 'category': 'Чай', 'price': 250.0, 'quantity': 70}\n"
     ]
    }
   ],
   "source": [
    "# Обновить для категории\n",
    "filter_ = {'category':'Чай'}\n",
    " \n",
    "# Уменьшить количество на одну единицу\n",
    "newvalue = { \"$inc\": { 'quantity': -1 } }\n",
    "\n",
    "goods.update_many(filter_, newvalue)\n",
    "cursor = goods.find(filter_)\n",
    "\n",
    "for record in cursor:\n",
    "    print(record)"
   ]
  },
  {
   "cell_type": "markdown",
   "metadata": {},
   "source": [
    "https://merrick-krg.medium.com/%D0%B1%D0%BE%D0%BB%D1%8C%D1%88%D0%BE%D0%B9-%D0%BA%D1%83%D1%80%D1%81-%D0%BF%D0%BE-mongodb-cab518a8f2fe"
   ]
  },
  {
   "cell_type": "code",
   "execution_count": null,
   "metadata": {},
   "outputs": [],
   "source": [
    "Удалить лишние строки"
   ]
  },
  {
   "cell_type": "code",
   "execution_count": 228,
   "metadata": {},
   "outputs": [
    {
     "name": "stdout",
     "output_type": "stream",
     "text": [
      "0  documents deleted !!\n",
      "{'_id': ObjectId('640626e555423ab1de751916'), 'name': 'Prezident', 'category': 'Кофе', 'price': 1500.0, 'quantity': 119}\n",
      "{'_id': ObjectId('640626e555423ab1de751917'), 'name': 'Egoist', 'category': 'Кофе', 'price': 2500.0, 'quantity': 19}\n",
      "{'_id': ObjectId('640626e555423ab1de751918'), 'name': 'Assam', 'category': 'Чай', 'price': 300.0, 'tags': ['чёрный', 'пакетированный'], 'quantity': 51}\n",
      "{'_id': ObjectId('640626e555423ab1de751919'), 'name': 'Lipton', 'category': 'Чай', 'price': 250.0, 'quantity': 70}\n"
     ]
    }
   ],
   "source": [
    "# Строим фильтр:\n",
    "'''\n",
    "filter_ = {'_id':{'$in':['640596cc55423ab1de7518f9',\n",
    "                         '640596cc55423ab1de7518fa',       \n",
    "                         '6405f4f955423ab1de75190f', \n",
    "                         '6405f4f955423ab1de751910',\n",
    "                         '640596cc55423ab1de7518f7',  \n",
    "                         '640596cc55423ab1de7518f8', \n",
    "                         '640596cc55423ab1de7518f9'\n",
    "                        ]}}\n",
    "'''\n",
    "filter_ = {'quantity':{'$in':[10,69]}}\n",
    "    \n",
    "d = goods.delete_many(filter_)\n",
    "cursor = goods.find()\n",
    "print(d.deleted_count, \" documents deleted !!\")\n",
    "\n",
    "\n",
    "for record in cursor:\n",
    "    print(record)"
   ]
  },
  {
   "cell_type": "code",
   "execution_count": null,
   "metadata": {},
   "outputs": [],
   "source": [
    "#Удалим кофе\n",
    "query = {\"category\": \"Кофе\"} \n",
    "result =goods.delete_many(query)\n"
   ]
  }
 ],
 "metadata": {
  "kernelspec": {
   "display_name": "Python 3",
   "language": "python",
   "name": "python3"
  },
  "language_info": {
   "codemirror_mode": {
    "name": "ipython",
    "version": 3
   },
   "file_extension": ".py",
   "mimetype": "text/x-python",
   "name": "python",
   "nbconvert_exporter": "python",
   "pygments_lexer": "ipython3",
   "version": "3.8.3"
  }
 },
 "nbformat": 4,
 "nbformat_minor": 4
}
