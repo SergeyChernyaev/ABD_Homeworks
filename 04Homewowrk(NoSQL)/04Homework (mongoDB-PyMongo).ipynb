{
 "cells": [
  {
   "cell_type": "code",
   "execution_count": 127,
   "metadata": {},
   "outputs": [],
   "source": [
    "#pip install pymongo"
   ]
  },
  {
   "cell_type": "markdown",
   "metadata": {},
   "source": [
    "\n",
    "\n",
    "Создать базу данных.\n",
    "\n",
    "Вставить 4 документа по товарам на сайте. Атрибуты:\n",
    "* название;\n",
    "* категория — 2 товара из одной категории и 2 товара из другой;\n",
    "* цена;\n",
    "* количество товаров на складе.\n",
    "\n",
    "Рассчитать остаточную стоимость товаров в каждой категории (сумма цены, умноженной на остаток).\n",
    "\n",
    "Уменьшить количество товара на 1.\n",
    "\n",
    "Вывести 2 самых дорогих товара.\n"
   ]
  },
  {
   "cell_type": "code",
   "execution_count": 188,
   "metadata": {},
   "outputs": [],
   "source": [
    "import pymongo "
   ]
  },
  {
   "cell_type": "code",
   "execution_count": 189,
   "metadata": {},
   "outputs": [],
   "source": [
    "# Создадим подключение к базе: \n",
    "client = pymongo.MongoClient('localhost', 27017)\n",
    "\n",
    "# Connect to our database\n",
    "db = client['goods']\n",
    "\n",
    "# Fetch our series collection\n",
    "#series_collection = db['series']"
   ]
  },
  {
   "cell_type": "markdown",
   "metadata": {},
   "source": [
    "Создать базу данных."
   ]
  },
  {
   "cell_type": "code",
   "execution_count": 190,
   "metadata": {},
   "outputs": [
    {
     "name": "stdout",
     "output_type": "stream",
     "text": [
      "Database(MongoClient(host=['localhost:27017'], document_class=dict, tz_aware=False, connect=True), 'goods')\n"
     ]
    }
   ],
   "source": [
    "# Посмотрим что подключилось\n",
    "print(db)"
   ]
  },
  {
   "cell_type": "markdown",
   "metadata": {},
   "source": [
    "Данные в MongoDB представлены и хранятся в виде JSON документов . В PyMongo мы используем словари представления документов. В качестве примера, следующий словарь может быть использован для представления докуммнта о товаре:"
   ]
  },
  {
   "cell_type": "markdown",
   "metadata": {},
   "source": [
    "Вставить 4 документа по товарам на сайте. Атрибуты:\n",
    "* название;\n",
    "* категория — 2 товара из одной категории и 2 товара из другой;\n",
    "* цена;\n",
    "* количество товаров на складе."
   ]
  },
  {
   "cell_type": "code",
   "execution_count": 191,
   "metadata": {},
   "outputs": [],
   "source": [
    "# добавит пакетно все товары через список словарей:\n",
    "new_goods = [\n",
    "        {\"name\": \"Prezident\",\n",
    "        \"category\": \"Кофе\",\n",
    "        \"price\": 1500.0,\n",
    "        \"quantity\": 120}, \n",
    "        {\"name\": \"Egoist\",\n",
    "        \"category\": \"Кофе\",\n",
    "        \"price\": 2500.0,\n",
    "        \"quantity\": 20},\n",
    "         {\"name\": \"Assam\",\n",
    "        \"category\": \"Чай\",\n",
    "        \"price\": 300.0,\n",
    "        \"tags\":['чёрный', 'пакетированный'],  # неформализованная схема позволяет произвольно добавить нужные атрибуты\n",
    "        \"quantity\": 54},\n",
    "         {\"name\": \"Lipton\",\n",
    "        \"category\": \"Чай\",\n",
    "        \"price\": 250.0,\n",
    "        \"quantity\": 72}]\n",
    "\n",
    "result = goods.insert_many(new_goods)\n",
    "\n"
   ]
  },
  {
   "cell_type": "markdown",
   "metadata": {},
   "source": [
    "Убедимся что всё записано"
   ]
  },
  {
   "cell_type": "code",
   "execution_count": 192,
   "metadata": {},
   "outputs": [
    {
     "data": {
      "text/plain": [
       "{'_id': ObjectId('640596cc55423ab1de7518f7'),\n",
       " 'name': 'Prezident',\n",
       " 'category': 'Кофе',\n",
       " 'price': 1500.0,\n",
       " 'quantity': 117}"
      ]
     },
     "metadata": {},
     "output_type": "display_data"
    },
    {
     "data": {
      "text/plain": [
       "{'_id': ObjectId('640596cc55423ab1de7518f8'),\n",
       " 'name': 'Egoist',\n",
       " 'category': 'Кофе',\n",
       " 'price': 2500.0,\n",
       " 'quantity': 17}"
      ]
     },
     "metadata": {},
     "output_type": "display_data"
    },
    {
     "data": {
      "text/plain": [
       "{'_id': ObjectId('640596cc55423ab1de7518f9'),\n",
       " 'name': 'Assam',\n",
       " 'category': 'Чай',\n",
       " 'price': 300.0,\n",
       " 'tags': ['чёрный', 'пакетированный'],\n",
       " 'quantity': 14}"
      ]
     },
     "metadata": {},
     "output_type": "display_data"
    },
    {
     "data": {
      "text/plain": [
       "{'_id': ObjectId('640596cc55423ab1de7518fa'),\n",
       " 'name': 'Lipton',\n",
       " 'category': 'Чай',\n",
       " 'price': 250.0,\n",
       " 'quantity': 69}"
      ]
     },
     "metadata": {},
     "output_type": "display_data"
    },
    {
     "data": {
      "text/plain": [
       "{'_id': ObjectId('6405f4f955423ab1de75190d'),\n",
       " 'name': 'Prezident',\n",
       " 'category': 'Кофе',\n",
       " 'price': 1500.0,\n",
       " 'quantity': 120}"
      ]
     },
     "metadata": {},
     "output_type": "display_data"
    },
    {
     "data": {
      "text/plain": [
       "{'_id': ObjectId('6405f4f955423ab1de75190e'),\n",
       " 'name': 'Egoist',\n",
       " 'category': 'Кофе',\n",
       " 'price': 2500.0,\n",
       " 'quantity': 20}"
      ]
     },
     "metadata": {},
     "output_type": "display_data"
    },
    {
     "data": {
      "text/plain": [
       "{'_id': ObjectId('6405f4f955423ab1de75190f'),\n",
       " 'name': 'Assam',\n",
       " 'category': 'Чай',\n",
       " 'price': 300.0,\n",
       " 'tags': ['чёрный', 'пакетированный'],\n",
       " 'quantity': 54}"
      ]
     },
     "metadata": {},
     "output_type": "display_data"
    },
    {
     "data": {
      "text/plain": [
       "{'_id': ObjectId('6405f4f955423ab1de751910'),\n",
       " 'name': 'Lipton',\n",
       " 'category': 'Чай',\n",
       " 'price': 250.0,\n",
       " 'quantity': 72}"
      ]
     },
     "metadata": {},
     "output_type": "display_data"
    },
    {
     "data": {
      "text/plain": [
       "{'_id': ObjectId('6405f55b55423ab1de751912'),\n",
       " 'name': 'Prezident',\n",
       " 'category': 'Кофе',\n",
       " 'price': 1500.0,\n",
       " 'quantity': 120}"
      ]
     },
     "metadata": {},
     "output_type": "display_data"
    },
    {
     "data": {
      "text/plain": [
       "{'_id': ObjectId('6405f55b55423ab1de751913'),\n",
       " 'name': 'Egoist',\n",
       " 'category': 'Кофе',\n",
       " 'price': 2500.0,\n",
       " 'quantity': 20}"
      ]
     },
     "metadata": {},
     "output_type": "display_data"
    },
    {
     "data": {
      "text/plain": [
       "{'_id': ObjectId('6405f55b55423ab1de751914'),\n",
       " 'name': 'Assam',\n",
       " 'category': 'Чай',\n",
       " 'price': 300.0,\n",
       " 'tags': ['чёрный', 'пакетированный'],\n",
       " 'quantity': 54}"
      ]
     },
     "metadata": {},
     "output_type": "display_data"
    },
    {
     "data": {
      "text/plain": [
       "{'_id': ObjectId('6405f55b55423ab1de751915'),\n",
       " 'name': 'Lipton',\n",
       " 'category': 'Чай',\n",
       " 'price': 250.0,\n",
       " 'quantity': 72}"
      ]
     },
     "metadata": {},
     "output_type": "display_data"
    }
   ],
   "source": [
    "for good in goods.find():\n",
    "    display(good)\n"
   ]
  },
  {
   "cell_type": "code",
   "execution_count": 193,
   "metadata": {},
   "outputs": [
    {
     "data": {
      "text/plain": [
       "{'_id': ObjectId('640596cc55423ab1de7518f9'),\n",
       " 'name': 'Assam',\n",
       " 'category': 'Чай',\n",
       " 'price': 300.0,\n",
       " 'tags': ['чёрный', 'пакетированный'],\n",
       " 'quantity': 14}"
      ]
     },
     "metadata": {},
     "output_type": "display_data"
    },
    {
     "data": {
      "text/plain": [
       "{'_id': ObjectId('640596cc55423ab1de7518fa'),\n",
       " 'name': 'Lipton',\n",
       " 'category': 'Чай',\n",
       " 'price': 250.0,\n",
       " 'quantity': 69}"
      ]
     },
     "metadata": {},
     "output_type": "display_data"
    },
    {
     "data": {
      "text/plain": [
       "{'_id': ObjectId('6405f4f955423ab1de75190f'),\n",
       " 'name': 'Assam',\n",
       " 'category': 'Чай',\n",
       " 'price': 300.0,\n",
       " 'tags': ['чёрный', 'пакетированный'],\n",
       " 'quantity': 54}"
      ]
     },
     "metadata": {},
     "output_type": "display_data"
    },
    {
     "data": {
      "text/plain": [
       "{'_id': ObjectId('6405f4f955423ab1de751910'),\n",
       " 'name': 'Lipton',\n",
       " 'category': 'Чай',\n",
       " 'price': 250.0,\n",
       " 'quantity': 72}"
      ]
     },
     "metadata": {},
     "output_type": "display_data"
    },
    {
     "data": {
      "text/plain": [
       "{'_id': ObjectId('6405f55b55423ab1de751914'),\n",
       " 'name': 'Assam',\n",
       " 'category': 'Чай',\n",
       " 'price': 300.0,\n",
       " 'tags': ['чёрный', 'пакетированный'],\n",
       " 'quantity': 54}"
      ]
     },
     "metadata": {},
     "output_type": "display_data"
    },
    {
     "data": {
      "text/plain": [
       "{'_id': ObjectId('6405f55b55423ab1de751915'),\n",
       " 'name': 'Lipton',\n",
       " 'category': 'Чай',\n",
       " 'price': 250.0,\n",
       " 'quantity': 72}"
      ]
     },
     "metadata": {},
     "output_type": "display_data"
    }
   ],
   "source": [
    "for good in goods.find({\"category\": \"Чай\"}):\n",
    "    display(good)"
   ]
  },
  {
   "cell_type": "code",
   "execution_count": null,
   "metadata": {},
   "outputs": [],
   "source": [
    "#Удалим кофе\n",
    "query = {\"category\": \"Кофе\"} \n",
    "result =goods.delete_many(query)\n"
   ]
  },
  {
   "cell_type": "markdown",
   "metadata": {},
   "source": [
    "Рассчитать остаточную стоимость товаров в каждой категории (сумма цены, умноженной на остаток)."
   ]
  },
  {
   "cell_type": "code",
   "execution_count": 195,
   "metadata": {},
   "outputs": [
    {
     "name": "stdout",
     "output_type": "stream",
     "text": [
      "{'_id': 'Кофе', 'По категории всего': 678000.0}\n",
      "{'_id': 'Чай', 'По категории всего': 89850.0}\n"
     ]
    }
   ],
   "source": [
    "pipeline = [{ \n",
    "# Проводим группировку:\n",
    "    \"$group\":  \n",
    "\n",
    "        {\"_id\" : \"$category\",  \n",
    "# Обсчитываем категорию:\n",
    "          \"По категории всего\": { \"$sum\": { \"$multiply\": [ \"$price\", \"$quantity\" ] } }\n",
    "         }} \n",
    "\n",
    "    ]\n",
    "\n",
    "agg_result= goods.aggregate(pipeline) \n",
    "\n",
    "\n",
    "# Выводим результат:\n",
    "for goods_group in agg_result: \n",
    "   print(goods_group)\n"
   ]
  },
  {
   "cell_type": "code",
   "execution_count": null,
   "metadata": {},
   "outputs": [],
   "source": [
    "https://www.mongodb.com/docs/manual/core/aggregation-pipeline/"
   ]
  },
  {
   "cell_type": "markdown",
   "metadata": {},
   "source": [
    "db.orders.aggregate( [\n",
    "   // Stage 1: Filter pizza order documents by date range\n",
    "   {\n",
    "      $match:\n",
    "      {\n",
    "         \"date\": { $gte: new ISODate( \"2020-01-30\" ), $lt: new ISODate( \"2022-01-30\" ) }\n",
    "      }\n",
    "   },\n",
    "   // Stage 2: Group remaining documents by date and calculate results\n",
    "   {\n",
    "      $group:\n",
    "      {\n",
    "         _id: { $dateToString: { format: \"%Y-%m-%d\", date: \"$date\" } },\n",
    "         totalOrderValue: { $sum: { $multiply: [ \"$price\", \"$quantity\" ] } },\n",
    "         averageOrderQuantity: { $avg: \"$quantity\" }\n",
    "      }\n",
    "   },\n",
    "   // Stage 3: Sort documents by totalOrderValue in descending order\n",
    "   {\n",
    "      $sort: { totalOrderValue: -1 }\n",
    "   }\n",
    " ] )"
   ]
  },
  {
   "cell_type": "markdown",
   "metadata": {},
   "source": [
    "Создададим вычисляемое поле cost:"
   ]
  },
  {
   "cell_type": "markdown",
   "metadata": {},
   "source": [
    "**Вывести 2 самых дорогих товара:**"
   ]
  },
  {
   "cell_type": "code",
   "execution_count": 198,
   "metadata": {},
   "outputs": [
    {
     "name": "stdout",
     "output_type": "stream",
     "text": [
      "{'_id': ObjectId('640596cc55423ab1de7518f8'), 'name': 'Egoist', 'category': 'Кофе', 'price': 2500.0, 'quantity': 17}\n",
      "{'_id': ObjectId('6405f4f955423ab1de75190e'), 'name': 'Egoist', 'category': 'Кофе', 'price': 2500.0, 'quantity': 20}\n"
     ]
    }
   ],
   "source": [
    "cursor = goods.find().sort(\"price\", pymongo.DESCENDING).limit(2)  \n",
    "for doc_ in cursor:\n",
    "    print(doc_)\n"
   ]
  },
  {
   "cell_type": "markdown",
   "metadata": {},
   "source": [
    "**Уменьшить количество товара на 1 единицу**"
   ]
  },
  {
   "cell_type": "code",
   "execution_count": 199,
   "metadata": {},
   "outputs": [
    {
     "name": "stdout",
     "output_type": "stream",
     "text": [
      "{'_id': ObjectId('640596cc55423ab1de7518f9'), 'name': 'Assam', 'category': 'Чай', 'price': 300.0, 'tags': ['чёрный', 'пакетированный'], 'quantity': 13}\n",
      "{'_id': ObjectId('6405f4f955423ab1de75190f'), 'name': 'Assam', 'category': 'Чай', 'price': 300.0, 'tags': ['чёрный', 'пакетированный'], 'quantity': 53}\n",
      "{'_id': ObjectId('6405f55b55423ab1de751914'), 'name': 'Assam', 'category': 'Чай', 'price': 300.0, 'tags': ['чёрный', 'пакетированный'], 'quantity': 53}\n"
     ]
    }
   ],
   "source": [
    "# Обновить для чая Assam\n",
    "filter_ = {'name':'Assam' }\n",
    " \n",
    "# Уменьшить количество на одну единицу\n",
    "newvalue = { \"$inc\": { 'quantity': -1 } }\n",
    "\n",
    "goods.update_many(filter_, newvalue)\n",
    "cursor = goods.find(filter_)\n",
    "\n",
    "for record in cursor:\n",
    "    print(record)"
   ]
  },
  {
   "cell_type": "code",
   "execution_count": 200,
   "metadata": {},
   "outputs": [
    {
     "name": "stdout",
     "output_type": "stream",
     "text": [
      "{'_id': ObjectId('640596cc55423ab1de7518f7'), 'name': 'Prezident', 'category': 'Кофе', 'price': 1500.0, 'quantity': 116}\n",
      "{'_id': ObjectId('640596cc55423ab1de7518f8'), 'name': 'Egoist', 'category': 'Кофе', 'price': 2500.0, 'quantity': 16}\n",
      "{'_id': ObjectId('640596cc55423ab1de7518f9'), 'name': 'Assam', 'category': 'Чай', 'price': 300.0, 'tags': ['чёрный', 'пакетированный'], 'quantity': 12}\n",
      "{'_id': ObjectId('640596cc55423ab1de7518fa'), 'name': 'Lipton', 'category': 'Чай', 'price': 250.0, 'quantity': 68}\n",
      "{'_id': ObjectId('6405f4f955423ab1de75190d'), 'name': 'Prezident', 'category': 'Кофе', 'price': 1500.0, 'quantity': 119}\n",
      "{'_id': ObjectId('6405f4f955423ab1de75190e'), 'name': 'Egoist', 'category': 'Кофе', 'price': 2500.0, 'quantity': 19}\n",
      "{'_id': ObjectId('6405f4f955423ab1de75190f'), 'name': 'Assam', 'category': 'Чай', 'price': 300.0, 'tags': ['чёрный', 'пакетированный'], 'quantity': 52}\n",
      "{'_id': ObjectId('6405f4f955423ab1de751910'), 'name': 'Lipton', 'category': 'Чай', 'price': 250.0, 'quantity': 71}\n",
      "{'_id': ObjectId('6405f55b55423ab1de751912'), 'name': 'Prezident', 'category': 'Кофе', 'price': 1500.0, 'quantity': 119}\n",
      "{'_id': ObjectId('6405f55b55423ab1de751913'), 'name': 'Egoist', 'category': 'Кофе', 'price': 2500.0, 'quantity': 19}\n",
      "{'_id': ObjectId('6405f55b55423ab1de751914'), 'name': 'Assam', 'category': 'Чай', 'price': 300.0, 'tags': ['чёрный', 'пакетированный'], 'quantity': 52}\n",
      "{'_id': ObjectId('6405f55b55423ab1de751915'), 'name': 'Lipton', 'category': 'Чай', 'price': 250.0, 'quantity': 71}\n"
     ]
    }
   ],
   "source": [
    "# Обновить для всего\n",
    "filter_ = {} # нужен пустой фильтр !!!! \n",
    " \n",
    "# Уменьшить количество на одну единицу\n",
    "newvalue = { \"$inc\": { 'quantity': -1 } }\n",
    "\n",
    "goods.update_many(filter_, newvalue)\n",
    "cursor = goods.find(filter_)\n",
    "\n",
    "for record in cursor:\n",
    "    print(record)"
   ]
  },
  {
   "cell_type": "markdown",
   "metadata": {},
   "source": [
    "https://merrick-krg.medium.com/%D0%B1%D0%BE%D0%BB%D1%8C%D1%88%D0%BE%D0%B9-%D0%BA%D1%83%D1%80%D1%81-%D0%BF%D0%BE-mongodb-cab518a8f2fe"
   ]
  }
 ],
 "metadata": {
  "kernelspec": {
   "display_name": "Python 3",
   "language": "python",
   "name": "python3"
  },
  "language_info": {
   "codemirror_mode": {
    "name": "ipython",
    "version": 3
   },
   "file_extension": ".py",
   "mimetype": "text/x-python",
   "name": "python",
   "nbconvert_exporter": "python",
   "pygments_lexer": "ipython3",
   "version": "3.8.3"
  }
 },
 "nbformat": 4,
 "nbformat_minor": 4
}
